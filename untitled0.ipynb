{
  "nbformat": 4,
  "nbformat_minor": 0,
  "metadata": {
    "colab": {
      "provenance": [],
      "authorship_tag": "ABX9TyOEsxq1dBF4/9gv59V+hYLW",
      "include_colab_link": true
    },
    "kernelspec": {
      "name": "python3",
      "display_name": "Python 3"
    },
    "language_info": {
      "name": "python"
    }
  },
  "cells": [
    {
      "cell_type": "markdown",
      "metadata": {
        "id": "view-in-github",
        "colab_type": "text"
      },
      "source": [
        "<a href=\"https://colab.research.google.com/github/zahra318/Signal-system-L2/blob/main/untitled0.ipynb\" target=\"_parent\"><img src=\"https://colab.research.google.com/assets/colab-badge.svg\" alt=\"Open In Colab\"/></a>"
      ]
    },
    {
      "cell_type": "markdown",
      "source": [
        "2,1) فرض كنيد\n",
        " h[n]=2δ[n+1]+2δ[n−1]\n",
        " x[n]=δ[n]+2δ[n-1]-δ[n-3]\n",
        "\n",
        "كانولوشنهاي زير را پيدا كرده و آنها را رسم كنيد\n",
        "\n",
        "y1[n]= x[n]∗ h[n] (الف\n",
        "\n",
        " y2\n",
        "[n]= x[n + 2]∗ h[n] (ب\n",
        "\n",
        " y3\n",
        "[n]= x[n]∗h[n + 2] (ج\n"
      ],
      "metadata": {
        "id": "Gqkfcxb_QIZT"
      }
    },
    {
      "cell_type": "markdown",
      "source": [
        "حل)\n",
        "الف)میدانیم که\n",
        "y [n]= x[n]∗ h[n] =∑h[k]x[n-k]\n",
        "پس داریم\n",
        "y1[n] = h[-1]x[n+1] + h[0]x[n] + h[1]x[n-1]\n",
        "\n",
        "این فرمول، کانولوشن را برای یک پاسخ ضربه خاص (h[n]) و ورودی (x[n]) نشان می‌دهد.\n",
        "\n",
        " با جایگذاری مقادیر h[-1] = 2، h[0] = 0 و h[1] = 2، فرمول ساده‌تر می‌شود:\n",
        "  y1[n] = 2x[n+1] + 2x[n-1]\n",
        "\n",
        "  و با جایگذاری مقادیر x[n]، نتیجه نهایی به دست می‌آید:\n",
        " y1[n] = 2δ[n+1] + 4δ[n] + 2δ[n-1] + 2δ[n-2] - 2δ[n-4]\n",
        "ب)\n",
        " رابطه بین y1[n] و y2[n]:\n",
        " y2[n] = y1[n+2]\n",
        "\n",
        "این فرمول نشان می‌دهد که y2[n]، نسخه شیفت‌یافته y1[n] به اندازه 2 واحد به سمت چپ است.\n",
        "ج)\n",
        "فرمول دیگر برای y2[n]:\n",
        "y2[n] = x[n+2] * h[n] = ∑h[k]x[n+2-k]\n",
        "\n",
        "این فرمول، کانولوشن را برای ورودی شیفت‌یافته x[n+2] و پاسخ ضربه h[n] نشان می‌دهد.\n",
        "y₃[n] = x[n] * h[n+2] = Σx[k] h[n+2-k]\n",
        "y₃[n] = y₃[n+2]"
      ],
      "metadata": {
        "id": "ZlfvvTygSc5v"
      }
    },
    {
      "cell_type": "code",
      "source": [
        "#T1\n",
        "import numpy as np\n",
        "import matplotlib.pyplot as plt\n",
        "\n",
        "# تعریف سیگنال‌ها\n",
        "x = np.array([1, 2, 0, -1])  # x[n]\n",
        "h = np.array([2, 0, -2])  # h[n]\n",
        "\n",
        "# محاسبه کانولوشن برای هر حالت\n",
        "y1 = np.convolve(x, h, mode='full')  # y1[n] = x[n] * h[n]\n",
        "y2 = np.convolve(np.roll(x, -2), h, mode='full')  # y2[n] = x[n+2] * h[n]\n",
        "y3 = np.convolve(x, np.roll(h, 2), mode='full')  # y3[n] = x[n] * h[n+2]\n",
        "\n",
        "# رسم نمودارها\n",
        "plt.figure(figsize=(12, 6))\n",
        "\n",
        "plt.subplot(3, 1, 1)\n",
        "plt.stem(y1)\n",
        "plt.title('y1[n] = x[n] * h[n]')\n",
        "\n",
        "plt.subplot(3, 1, 2)\n",
        "plt.stem(y2)\n",
        "plt.title('y2[n] = x[n+2] * h[n]')\n",
        "\n",
        "plt.subplot(3, 1, 3)\n",
        "plt.stem(y3)\n",
        "plt.title('y3[n] = x[n] * h[n+2]')\n",
        "\n",
        "plt.tight_layout()\n",
        "plt.show()"
      ],
      "metadata": {
        "colab": {
          "base_uri": "https://localhost:8080/",
          "height": 329
        },
        "collapsed": true,
        "id": "yc0BNpKSZzZl",
        "outputId": "2fe301b5-401b-4f90-8524-742d3c593fe2"
      },
      "execution_count": null,
      "outputs": [
        {
          "output_type": "display_data",
          "data": {
            "text/plain": [
              "<Figure size 1200x600 with 3 Axes>"
            ],
            "image/png": "[encoded data removed]"
          },
          "metadata": {}
        }
      ]
    },
    {
      "cell_type": "markdown",
      "source": [
        "2,2)سیگنال زیر را در نظر بگیرید:\n",
        "\n",
        "h[n] = (1/2)n-(u[n+3] - u[n-10])\n",
        "\n",
        "A و B را بر حسب n به نحوی بیابید که معادله زیر برقرار باشد:\n",
        "\n",
        "h[n-k]={(1/2)^n-k-1 , A≤k≤B}\n",
        "       {0 , else}\n"
      ],
      "metadata": {
        "id": "tfx8mF16aMmq"
      }
    },
    {
      "cell_type": "markdown",
      "source": [
        "حل)\n",
        "\n",
        "با استفاده از تعریف داده شده برای سیگنال h[n] می‌توان نوشت:\n",
        "\n",
        "h[k] = (1/2)^(k-1)(u[k+3] - u[k-10])\n",
        "\n",
        "سیگنال h[k] تنها در بازه\n",
        "\n",
        "-3 ≤ k ≤ 9\n",
        "صفر نیست.\n",
        " از این می‌دانیم که سیگنال\n",
        "h[k-n] تنها در بازه -3 ≤ k ≤ 9 صفر نیست. حال اگر h[k] را به اندازه n به سمت راست شیفت دهیم، در این صورت سیگنال h[k-n] حاصل می‌شود که در بازه n-9 ≤ k ≤ n+3 صفر نیست. بنابراین:\n",
        "A = n - 9\n",
        "B = n + 3"
      ],
      "metadata": {
        "id": "ADlVV9nAOwKh"
      }
    },
    {
      "cell_type": "code",
      "source": [
        "#T2\n",
        "import numpy as np\n",
        "import matplotlib.pyplot as plt\n",
        "\n",
        "# سوال 2.2\n",
        "def h(n):\n",
        "    return (0.5) ** (n - 1) * ((n >= -3) & (n <= 9))\n",
        "\n",
        "\n",
        "    # رسم نمودار سوال 2.2\n",
        "    n_values = np.arange(-5, 15)\n",
        "    h_values = h(n_values)\n",
        "\n",
        "    plt.figure(figsize=(8, 4))\n",
        "    plt.stem(n_values, h_values)\n",
        "    plt.title('h[n] برای سوال 2.2')\n",
        "    plt.xlabel('n')\n",
        "    plt.ylabel('h[n]')\n",
        "    plt.grid(True)\n",
        "    plt.show()"
      ],
      "metadata": {
        "id": "i6MaDn-Pvovt"
      },
      "execution_count": null,
      "outputs": []
    },
    {
      "cell_type": "markdown",
      "source": [
        "2,3)ورودی [x[n]] و پاسخ ضربه [h[n]] زیر را در نظر بگیرید:\n",
        "[h[n] = u[n + 2]]\n",
        "[x[n] = (1/2)^(n-2) u[n-2]]\n",
        "خروجی [y[n] = x[n] * h[n]] را بیابید."
      ],
      "metadata": {
        "id": "XYWDpbk9RhlD"
      }
    },
    {
      "cell_type": "markdown",
      "source": [
        "حل)\n",
        "\n",
        "فرض کنید سیگنال‌های x1 و h1 به صورت زیر تعریف شوند:\n",
        "[x1[n] = (1/2)^n u[n]]\n",
        "[y[n] = x[n] * h[n]]\n",
        "[= x1[n-2] * u[n+2]]\n",
        "[= ∑(k=-∞ to ∞) x1[k-2] h1[n-k+2]]\n",
        "با جایگذاری m+2 بجای k در سیگمای فوق بدست می‌آوریم:\n",
        "[y[n] = ∑(m=-∞ to ∞) x1[m] h1[n-m]]\n",
        "با استفاده از نتیجه مثال 2.1 در متن کتاب درسی می‌توان نوشت:\n",
        "[y[n] = 2[1 - (1/2)^(n+1)] u[n]]"
      ],
      "metadata": {
        "id": "ZBTcbVLkRmLJ"
      }
    },
    {
      "cell_type": "code",
      "source": [
        "#T3\n",
        "import numpy as np\n",
        "import matplotlib.pyplot as plt\n",
        "\n",
        "# تعریف سیگنال‌ها\n",
        "n = np.arange(-5, 10)  # بازه زمانی\n",
        "x = (0.5) ** (n - 2) * (n >= 2)  # x[n]\n",
        "h = (n >= -2)  # h[n]\n",
        "\n",
        "# محاسبه کانولوشن\n",
        "y = np.convolve(x, h, mode='full')\n",
        "\n",
        "# رسم نمودارها\n",
        "plt.figure(figsize=(12, 4))\n",
        "\n",
        "plt.subplot(1, 3, 1)\n",
        "plt.stem(n, x[:len(n)])\n",
        "plt.title('x[n]')\n",
        "\n",
        "plt.subplot(1, 3, 2)\n",
        "plt.stem(n, h[:len(n)])\n",
        "plt.title('h[n]')\n",
        "\n",
        "plt.subplot(1, 3, 3)\n",
        "plt.stem(np.arange(len(y)) - 5, y)\n",
        "plt.title('y[n] = x[n] * h[n]')\n",
        "\n",
        "plt.tight_layout()\n",
        "plt.show()"
      ],
      "metadata": {
        "id": "OgpEBlH4v2MB"
      },
      "execution_count": null,
      "outputs": []
    },
    {
      "cell_type": "markdown",
      "source": [
        "2,4)\n",
        "[y[n] = x[n] * h[n]] را به ازای x و h زیر بیابید و آن را رسم کنید.\n",
        "[x[n] = 1, 3 ≤ n ≤ 8]\n",
        "[0, در غیر این صورت]\n",
        "[h[n] = 1, 4 ≤ n ≤ 15]\n",
        "[0, در غیر این صورت]"
      ],
      "metadata": {
        "id": "PymtNSHYRpYK"
      }
    },
    {
      "cell_type": "markdown",
      "source": [
        "حل)\n",
        "می‌دانیم که:\n",
        "[y[n] = x[n] * h[n] = ∑(k=-∞ to ∞) x[k] h[n-k]]\n",
        "\n",
        "[y[n]=x[3]r[n-3]+x[4]n[n-4]+x[S]_{t}[n-5]+x[6]n[n-6]+x[7]n[n-7]+x[8]n[n-8]]\n",
        "\n",
        "y[n] = { (n-6, 7 ≤ n ≤ 11), (6, 12 ≤ n ≤ 18), (24-n, 19 ≤ n ≤ 23), (0, سایر نقاط) }"
      ],
      "metadata": {
        "id": "aBN1nkIiRuoC"
      }
    },
    {
      "cell_type": "code",
      "source": [
        "#T4\n",
        "import numpy as np\n",
        "import matplotlib.pyplot as plt\n",
        "\n",
        "# تعریف سیگنال‌ها\n",
        "n = np.arange(0, 20)  # بازه زمانی\n",
        "x = np.zeros(20)\n",
        "x[3:9] = 1\n",
        "h = np.zeros(20)\n",
        "h[4:16] = 1\n",
        "\n",
        "# محاسبه کانولوشن\n",
        "y = np.convolve(x, h, mode='full')\n",
        "\n",
        "# رسم نمودارها\n",
        "plt.figure(figsize=(12, 4))\n",
        "\n",
        "plt.subplot(1, 3, 1)\n",
        "plt.stem(n, x)\n",
        "plt.title('x[n]')\n",
        "\n",
        "plt.subplot(1, 3, 2)\n",
        "plt.stem(n, h)\n",
        "plt.title('h[n]')\n",
        "\n",
        "plt.subplot(1, 3, 3)\n",
        "plt.stem(np.arange(len(y)), y)\n",
        "plt.title('y[n] = x[n] * h[n]')\n",
        "\n",
        "plt.tight_layout()\n",
        "plt.show()\n"
      ],
      "metadata": {
        "id": "i_alJp1Rv8kN"
      },
      "execution_count": null,
      "outputs": []
    },
    {
      "cell_type": "markdown",
      "source": [
        "2,5)\n",
        "فرض کنید\n",
        "که در آن N یک عدد صحیح است، N را به نحوی تعیین کنید که برای\n",
        "y[n] = x[n]*h[n] داشته باشیم:\n",
        "x[14] = 0\n",
        "x[4] = 5"
      ],
      "metadata": {
        "id": "h7BeCEY0R21p"
      }
    },
    {
      "cell_type": "markdown",
      "source": [
        "حل)\n",
        "سیگنال y[n] برابر است با:\n",
        " * y[n] = Σ x[k] h[n-k]\n",
        "  * از این رابطه مشخص است که y[n] برابر مجموع شیفت یافته h[n] می‌باشد. از آنجایی که جمله ی آخر در n-9 اتفاق می افتد و h[n] برای n>N برابر صفر است، y[n] برای n>N+9 صفر است. با استفاده از این حقیقت که x[14]=0، می توان نتیجه گرفت که N حداکثر می تواند 5 باشد. بعلاوه از x[4]=5 می توان نتیجه گرفت که h[n] حداقل 5 نقطه فاقد صفر دارد. تنها مقدار N که هر دو شرط را برآورده می کند 4 است."
      ],
      "metadata": {
        "id": "h3Ry9FiTSBsk"
      }
    },
    {
      "cell_type": "code",
      "source": [
        "#T5\n",
        "import numpy as np\n",
        "import matplotlib.pyplot as plt\n",
        "\n",
        "\n",
        "# سوال 2.5\n",
        "def convolution(x, h):\n",
        "    y = np.convolve(x, h, mode='full')\n",
        "        return y\n",
        "\n",
        "        N = 4\n",
        "        x = np.ones(10)\n",
        "        h = np.ones(N + 1)\n",
        "        y = convolution(x, h)\n",
        "\n",
        "        print(f\"مقدار N برای سوال 2.5 برابر است با: {N}\")\n",
        "        print(f\"مقدار y[4] برابر است با: {y[4]}\")\n",
        "        print(f\"مقدار y[14] برابر است با: {y[14]}\")\n",
        "\n",
        "        # رسم نمودار سوال 2.5\n",
        "        plt.figure(figsize=(12, 4))\n",
        "\n",
        "        plt.subplot(1, 3, 1)\n",
        "        plt.stem(np.arange(len(x)), x)\n",
        "        plt.title('x[n]')\n",
        "\n",
        "        plt.subplot(1, 3, 2)\n",
        "        plt.stem(np.arange(len(h)), h)\n",
        "        plt.title('h[n]')\n",
        "\n",
        "        plt.subplot(1, 3, 3)\n",
        "        plt.stem(np.arange(len(y)), y)\n",
        "        plt.title('y[n] = x[n] * h[n]')\n",
        "\n",
        "        plt.tight_layout()\n",
        "        plt.show()\n"
      ],
      "metadata": {
        "id": "QoZnWZ3PwDLO"
      },
      "execution_count": null,
      "outputs": []
    },
    {
      "cell_type": "markdown",
      "source": [
        "2,6)\n",
        "کانولوشن  y[n] = x[n] * h[n]  را به ازای  x[n]  و  h[n]  زیر بیابید و آن را رسم کنید.\n",
        "x[n] = (1/3)^(-n) u[-n-1]\n",
        "h[n] = u[n-1]"
      ],
      "metadata": {
        "id": "8klZg0JzR0Bf"
      }
    },
    {
      "cell_type": "markdown",
      "source": [
        "حل)\n",
        "از اطلاعات داده شده داریم:\n",
        "y[n] = x[n] * h[n] = Σ[k=-∞ to ∞] x[k] h[n-k]\n",
        "= Σ[k=-∞ to ∞] (1/3)^(-k) u[-k-1] u[n-k-1]\n",
        "= Σ[k=-∞ to -1] (1/3)^(-k) u[n-k-1]\n",
        "= Σ[k=-1 to ∞] (1/3)^(k) u[n+k-1]\n",
        "جایگذاری  k  توسط  p = -k  داریم:\n",
        "y[n] = Σ[p=0 to ∞] (1/3)^(n+1) u[n+p]\n",
        "برای  n ≥ 0  معادله ی بالایی به صورت زیر در می آید:\n",
        "y[n] = Σ[p=0 to ∞] (1/3)^(p+1) = (1/3) * (1 / (1 - 1/3)) = 1/2\n",
        "برای  n < 0  معادله  (S۲.۶.۱)  به صورت خلاصه می شود:\n",
        "y[n] = Σ[p=-∞ to ∞] (1/3)^(p+1) = (1/3)^(n+1) * Σ[p=-∞ to ∞] (1/3)^p\n",
        "= (1/3)^(n+1) * (1 / (1 - 1/3)) = (1/3)^(-n) * (1/2) = (3^n) / 2\n",
        "بنابراین:\n",
        "y[n] = { (3^n) / 2     n < 0\n",
        "{ 1/2            n ≥ 0"
      ],
      "metadata": {
        "id": "z8Ya_dYCSFTl"
      }
    },
    {
      "cell_type": "code",
      "source": [
        "#T6\n",
        "import numpy as np\n",
        "import matplotlib.pyplot as plt\n",
        "\n",
        "# تعریف سیگنال‌ها\n",
        "n = np.arange(-10, 10)  # بازه زمانی\n",
        "x = (1/3) ** (-n) * (n <= -1)  # x[n]\n",
        "h = (n >= 1)  # h[n]\n",
        "\n",
        "# محاسبه کانولوشن\n",
        "y = np.convolve(x, h, mode='full')\n",
        "\n",
        "# رسم نمودارها\n",
        "plt.figure(figsize=(12, 4))\n",
        "\n",
        "plt.subplot(1, 3, 1)\n",
        "plt.stem(n, x[:len(n)])\n",
        "plt.title('x[n]')\n",
        "\n",
        "plt.subplot(1, 3, 2)\n",
        "plt.stem(n, h[:len(n)])\n",
        "plt.title('h[n]')\n",
        "\n",
        "plt.subplot(1, 3, 3)\n",
        "plt.stem(np.arange(len(y)) - 10, y)\n",
        "plt.title('y[n] = x[n] * h[n]')\n",
        "\n",
        "plt.tight_layout()\n",
        "plt.show()\n"
      ],
      "metadata": {
        "id": "PExChbWdwJiH"
      },
      "execution_count": null,
      "outputs": []
    },
    {
      "cell_type": "markdown",
      "source": [
        "2,7)\n",
        "برای سیستم خطی رابطه زیر بین ورودی [n]x و خروجی [n]y وجود دارد:\n",
        "y[n] = Σ x[k] g[n-2k]\n",
        "و در آن:\n",
        "g[n] = u[n-4] - u[n-8]\n",
        "الف) [n]y را به ازای [n]x = δ[n-1] بیابید.\n",
        "ب) [n]y را به ازای [n]x = δ[n-2] بیابید.\n",
        "ج) آیا S و LTI است؟\n",
        "د) [n]y را به ازای [n]x = u[n] بیابید."
      ],
      "metadata": {
        "id": "hLYKoEopSI_q"
      }
    },
    {
      "cell_type": "markdown",
      "source": [
        "حل)\n",
        "الف) داده شده است: x[n] = δ[n-2]\n",
        "ملاحظه می کنیم که:\n",
        "y[n] = Σ x[k] g[n-2k] = g[n-4]\n",
        "y[n] = u[n-4] - u[n-8]\n",
        "(ب) ورودی سیستم در قسمت (ب) مشابه قسمت (الف) به اندازه ی (۱) واحد به سمت راست شیفت یافته است. اگر S تغییر پذیر با زمان باشد در این صورت خروجی سیستم بدست آمده در قسمت (ب) باید با خروجی بدست آمده سیستم در قسمت (الف) با یک شیفت به اندازه (۱) واحد به راست باشد. واضح است که این آن مورد ذکر شده نیست بنابر این سیستم LTI نیست.\n",
        "(ج) اگر x[n] = u[n] در این صورت:\n",
        "y[n] = Σ x[k] g[n-2k]\n",
        "y[n] = Σ g[n-2k]\n",
        "سیگنال g[n-2k] برای k = 0, 1, 2, ... در شکل ۲۷.۷ رسم شده اند. با توجه به این شکل واضح است که:\n",
        "\n",
        "y[n] = {\n",
        "    1,  n = 0, 1\n",
        "        2,  n >= 2\n",
        "        }\n",
        "        y[n] = 2i[n] - δ[n] - δ[n-1]"
      ],
      "metadata": {
        "id": "0cmz8opJSK3h"
      }
    },
    {
      "cell_type": "code",
      "source": [
        "#T7\n",
        "import numpy as np\n",
        "import matplotlib.pyplot as plt\n",
        "\n",
        "def g(n):\n",
        "    return (n >= 0) * (n < 4)\n",
        "\n",
        "    def y(x, n):\n",
        "        result = 0\n",
        "            for k in range(-10, 10):  # بازه زمانی مناسب را انتخاب کنید\n",
        "                    if n - 2 * k >= -10 and n - 2 * k <= 10:\n",
        "                                result += x[k + 10] * g(n - 2 * k)\n",
        "                                    return result\n",
        "\n",
        "                                    n = np.arange(-5, 10)\n",
        "                                    x1 = np.zeros(20)\n",
        "                                    x1[11] = 1  # delta[n-1]\n",
        "                                    x2 = np.zeros(20)\n",
        "                                    x2[12] = 1  # delta[n-2]\n",
        "                                    x3 = np.ones(15) # u[n]\n",
        "\n",
        "                                    y1 = [y(x1, i) for i in n]\n",
        "                                    y2 = [y(x2, i) for i in n]\n",
        "                                    y3 = [y(x3, i) for i in n]\n",
        "\n",
        "                                    plt.figure(figsize=(12, 4))\n",
        "                                    plt.subplot(1, 3, 1)\n",
        "                                    plt.stem(n, y1)\n",
        "                                    plt.title('y[n] for delta[n-1]')\n",
        "                                    plt.subplot(1, 3, 2)\n",
        "                                    plt.stem(n, y2)\n",
        "                                    plt.title('y[n] for delta[n-2]')\n",
        "                                    plt.subplot(1, 3, 3)\n",
        "                                    plt.stem(n, y3)\n",
        "                                    plt.title('y[n] for u[n]')\n",
        "                                    plt.tight_layout()\n",
        "                                    plt.show()\n"
      ],
      "metadata": {
        "id": "TIFq8iTYwPaL"
      },
      "execution_count": null,
      "outputs": []
    },
    {
      "cell_type": "markdown",
      "source": [
        "2,8)\n",
        "کانولوشن دو سیگنال زیر را بیابید و نتیجه را رسم کنید.\n",
        "x(t) = {\n",
        "      1 + t,  0 <= t <= 1\n",
        "          2 - t,  1 <= t <= 2\n",
        "              0,      در غیر این صورت\n",
        "              }\n",
        "\n",
        " h(t) = δ(t+2) + 2δ(t+1)\n"
      ],
      "metadata": {
        "id": "3qUsMbesSNvR"
      }
    },
    {
      "cell_type": "markdown",
      "source": [
        "حل)\n",
        "با استفاده از انتگرال کانولوشن داریم\n",
        "y(t) = x(t) * h(t) = ∫[-∞,+∞] x(τ)h(t-τ) dτ = ∫[-∞,+∞] h(τ)x(t-τ) dτ\n",
        "داده شده است که باعث می‌شود انتگرال فوق به شکل زیر خلاصه شود\n",
        "y(t) = x(t+2) + 2x(t+1)\n",
        "\n",
        "y(t) = {\n",
        "    t + 3   -2 < t <= -1\n",
        "      t + 4   -1 < t <= 0\n",
        "        2 - 2t   0 < t <= 1\n",
        "          a       b\n",
        "          }"
      ],
      "metadata": {
        "id": "S18kw0YbSQMZ"
      }
    },
    {
      "cell_type": "code",
      "source": [
        "#T8\n",
        "import numpy as np\n",
        "import matplotlib.pyplot as plt\n",
        "\n",
        "def x(t):\n",
        "    if 0 <= t <= 1:\n",
        "            return t + 1\n",
        "                elif 1 < t <= 2:\n",
        "                        return 2 - t\n",
        "                            else:\n",
        "                                    return 0\n",
        "\n",
        "                                    def h(t):\n",
        "                                        if t == -2:\n",
        "                                                return 1\n",
        "                                                    elif t == -1:\n",
        "                                                            return 2\n",
        "                                                                else:\n",
        "                                                                        return 0\n",
        "\n",
        "                                                                        t = np.arange(-3, 4, 0.1)\n",
        "                                                                        y = [x(ti + 2) + 2 * x(ti + 1) for ti in t]\n",
        "\n",
        "                                                                        plt.figure(figsize=(8, 4))\n",
        "                                                                        plt.plot(t, y)\n",
        "                                                                        plt.title('y(t) = x(t) * h(t)')\n",
        "                                                                        plt.xlabel('t')\n",
        "                                                                        plt.ylabel('y(t)')\n",
        "                                                                        plt.grid(True)\n",
        "                                                                        plt.show()"
      ],
      "metadata": {
        "id": "aBjANuldwYzT"
      },
      "execution_count": null,
      "outputs": []
    },
    {
      "cell_type": "markdown",
      "source": [
        "2,9)\n",
        "فرض کنید\n",
        "h(t) = e^(2t)u(-t + 4) + e^(-2t)u(t - 5)\n",
        "\n",
        "A و B را به نحوی تعیین کنید که داشته باشیم:\n",
        "h(t - τ) = {\n",
        "  e^(2(t - τ))   τ < A\n",
        "    e^(-2(t - τ))  A < τ < B\n",
        "      e              B < τ\n",
        "      }"
      ],
      "metadata": {
        "id": "Kb0ofv0wSWhe"
      }
    },
    {
      "cell_type": "markdown",
      "source": [
        "حل)\n",
        "با استفاده از تعریف داده شده برای سیگنال h(t)، می‌توان نوشت:\n",
        "h(τ) = e^(2τ)u(-τ + 4) + e^(-2τ)u(τ - 5) = {\n",
        "  e^(-2τ)   τ > 5\n",
        "    e^(2τ)    τ > 4\n",
        "      e         4 < τ < 5\n",
        "      }\n",
        "   بنابراین:\n",
        "      h(-τ) = {\n",
        "        e^(2τ)   τ > -5\n",
        "          e^(-2τ)  τ > -4\n",
        "            e        -5 < τ < -4\n",
        "            }\n",
        "\n",
        "  پس:\n",
        "            A = t - 5\n",
        "            B = t - 4\n"
      ],
      "metadata": {
        "id": "leWIpThXSaFz"
      }
    },
    {
      "cell_type": "code",
      "source": [
        "#T9\n",
        "import numpy as np\n",
        "import matplotlib.pyplot as plt\n",
        "\n",
        "def h(t):\n",
        "    return np.exp(2 * t) * (t <= 4) + np.exp(-2 * t) * (t >= 5)\n",
        "\n",
        "    t = np.arange(0, 10, 0.1)\n",
        "    y = h(t)\n",
        "\n",
        "    plt.figure(figsize=(8, 4))\n",
        "    plt.plot(t, y)\n",
        "    plt.title('h(t)')\n",
        "    plt.xlabel('t')\n",
        "    plt.ylabel('h(t)')\n",
        "    plt.grid(True)\n",
        "    plt.show()"
      ],
      "metadata": {
        "id": "Nx32sOtXwipb"
      },
      "execution_count": null,
      "outputs": []
    },
    {
      "cell_type": "markdown",
      "source": [
        "2,10)\n",
        "فرض کنید که:\n",
        "x(t) = {\n",
        "  1   0 ≤ t ≤ 1\n",
        "    0   در غیر این صورت\n",
        "    }\n",
        "\n",
        "و h(t) = x(t/a)  که در آن a ≥ 1.\n",
        "الف) y(t) = x(t) * h(t) را بیابید و آن را رسم کنید.\n",
        "ب) اگر y(t) تنها سه ناپیوستگی داشته باشد، مقدار a چقدر است؟"
      ],
      "metadata": {
        "id": "DlpOpj7kSbED"
      }
    },
    {
      "cell_type": "markdown",
      "source": [
        "حل)\n",
        "با استفاده از اطلاعات داده شده که می‌توانیم h(t) و x(t) را به شکل‌های شکل ح ۲.۱۰ رسم کنید. (ب) به کمک طرح‌های شکل ح ۲.۱۰ می‌توان نشان داد y(t) = x(t) * h(t) همانطور که در اشکال ح ۲.۱۰ نشان داده شده‌اند.\n",
        "شکل ح ۲.۱۰:\n",
        "\n",
        "بنابراین:\n",
        "y(t) =\n",
        " * t    -1 ≤ t ≤ α\n",
        "  * α    α ≤ t ≤ 1\n",
        "   * 1 + α - t    1 ≤ t ≤ 1 + α\n",
        "\n",
        "(ب) از شکل بالا برای y(t)، واضح است که dy(t)/dt در 1 + α، 1، α ناپیوسته است. اگر بخواهیم dy(t)/dt تنها ۳ نقطه ی ناپیوستگی داشته باشد؛ در این صورت بایستی α = 1 انتخاب گردد."
      ],
      "metadata": {
        "id": "mc0pMPpjSc4z"
      }
    },
    {
      "cell_type": "code",
      "source": [
        "#T10\n",
        "import numpy as np\n",
        "import matplotlib.pyplot as plt\n",
        "\n",
        "alpha = 0.5  # مقدار آلفا را تنظیم کنید\n",
        "\n",
        "def x(t):\n",
        "    return (0 <= t <= 1)\n",
        "\n",
        "    def h(t):\n",
        "        return x(t / alpha)\n",
        "\n",
        "        t = np.arange(-1, 2, 0.1)\n",
        "        y = np.convolve([x(ti) for ti in t], [h(ti) for ti in t], mode='same')\n",
        "\n",
        "        plt.figure(figsize=(8, 4))\n",
        "        plt.plot(t, y)\n",
        "        plt.title('y(t) = x(t) * h(t)')\n",
        "        plt.xlabel('t')\n",
        "        plt.ylabel('y(t)')\n",
        "        plt.grid(True)\n",
        "        plt.show()"
      ],
      "metadata": {
        "id": "JZnQuZ4LwsM2"
      },
      "execution_count": null,
      "outputs": []
    },
    {
      "cell_type": "markdown",
      "source": [
        "2,11)\n",
        "فرض کنید:\n",
        "h(t) = e^(-t) u(t)  ,  x(t) = u(t - 3) - u(t - 5)\n",
        "y(t) = x(t) * h(t)   (الف)\n",
        "g(t) = (dx(t)/dt) * h(t)   (ب)\n",
        "\n",
        "ج) چه رابطه‌ای با (1) دارد؟"
      ],
      "metadata": {
        "id": "P6eGvYxsSdoA"
      }
    },
    {
      "cell_type": "markdown",
      "source": [
        "حل)\n",
        "\n",
        "الف) از اطلاعات داده شده ملاحظه می‌کنید که (1) تنها در بازه t-5 < τ < t-3 صفر نیست، بنابراین:\n",
        "y(t) = x(t) * h(t) = ∫[t-5, t-3] h(τ) x(t - τ) dτ\n",
        "\n",
        "براحتی می‌توان نشان داد که  h(τ) = e^(-3τ) u(τ - 3) - e^(-3τ) u(τ - 5)  تنها در بازه t-5 < τ < t-3 صفر نیست. بنابراین به ازای t < 3 انتگرال فوق برابر صفر است. برای 3 ≤ t ≤ 5 انتگرال فوق به صورت زیر است:\n",
        "y(t) = ∫[t-5, t-3] e^(-3τ) dτ = (1 - e^(-3(t-3))) / 3\n",
        "\n",
        "برای t > 5 انتگرال برابر است با:\n",
        "y(t) = ∫[t-5, t-3] e^(-3τ) dτ = (1 - e^(-6)) e^(-3(t-3)) / 3\n",
        "\n",
        "بنابراین، نتیجه کانولوشن به صورت زیر قابل بیان است:\n",
        "y(t) = { 0,  t ≤ 3\n",
        "       { (1 - e^(-3(t-3))) / 3, 3 < t ≤ 5\n",
        "              { (1 - e^(-6)) e^(-3(t-3)) / 3, t > 5\n",
        "  (ب) با مشتق‌گیری از x(t) در حوزه زمان داریم:\n",
        "              dx(t) / dt = δ(t - 3) - δ(t - 5)\n",
        "\n",
        "  بنابراین:\n",
        "              g(t) = dx(t) / dt = e^(-3(t-3)) u(t - 3) - e^(-3(t-5)) u(t - 5)\n",
        "\n",
        "  (ج) از نتیجه (الف) می‌توانیم مشتق y(t) را به صورت زیر محاسبه کنیم:\n",
        "              dy(t) / dt = { 0, t ≤ 3\n",
        "                           { e^(-3(t-3)), 3 < t ≤ 5\n",
        "                                        { (1 - e^(-6)) e^(-3(t-3)), t > 5\n",
        "\n",
        "g(1)=dy)\n",
        "dr\n",
        "که این دقیقاً برابر با (1) است بنابراین"
      ],
      "metadata": {
        "id": "7PtupMI1Sg9u"
      }
    },
    {
      "cell_type": "code",
      "source": [
        "#T11\n",
        "import numpy as np\n",
        "import matplotlib.pyplot as plt\n",
        "\n",
        "def x(t):\n",
        "    return (3 <= t <= 5)\n",
        "\n",
        "    def h(t):\n",
        "        return np.exp(-3 * t) * (t >= 0)\n",
        "\n",
        "        t = np.arange(0, 10, 0.1)\n",
        "        y = np.convolve([x(ti) for ti in t], [h(ti) for ti in t], mode='full')\n",
        "        dx = np.gradient([x(ti) for ti in t], 0.1)\n",
        "        g = np.convolve(dx, [h(ti) for ti in t], mode='full')\n",
        "\n",
        "        plt.figure(figsize=(12, 4))\n",
        "        plt.subplot(1, 2, 1)\n",
        "        plt.plot(y)\n",
        "        plt.title('y(t) = x(t) * h(t)')\n",
        "        plt.subplot(1, 2, 2)\n",
        "        plt.plot(g)\n",
        "        plt.title('g(t) = dx(t)/dt * h(t)')\n",
        "        plt.tight_layout()\n",
        "        plt.show()"
      ],
      "metadata": {
        "id": "sGAz-x-3wygJ"
      },
      "execution_count": null,
      "outputs": []
    },
    {
      "cell_type": "markdown",
      "source": [
        "2,12)فرض کنید:\n",
        "y(t) = e^(-t) u(t) * Σ δ(t - 3k)\n",
        "\n",
        "که Σ از k = -∞ تا ∞ است.\n",
        "نشان دهید که در بازه 0 ≤ t < 3، y(t) = Ae^(-t) و A را بیابید.\n"
      ],
      "metadata": {
        "id": "x6zVsXZvSiDm"
      }
    },
    {
      "cell_type": "markdown",
      "source": [
        "حل)\n",
        "سیگنال y(t) را می‌توان به صورت زیر نوشت:\n",
        "y(t) = ... + e^(-(t+6)) u(t+6) + e^(-(t+3)) u(t+3) + e^(-t) u(t) + e^(-(t-3)) u(t-3) + e^(-(t-6)) u(t-6) + ...\n",
        "\n",
        "در بازه 0 ≤ t < 3، y(t) را می‌توان به صورت زیر نوشت:\n",
        "y(t) = e^(-t) + e^(-(t+3)) + e^(-(t+6)) + ...\n",
        "\n",
        "y(t) = e^(-t) (1 + e^(-3) + e^(-6) + ...)\n",
        "\n",
        "با استفاده از فرمول مجموع تصاعد هندسی، می‌توان نوشت:\n",
        "y(t) = e^(-t) / (1 - e^(-3))\n",
        "\n",
        "بنابراین:\n",
        "A = 1 / (1 - e^(-3))"
      ],
      "metadata": {
        "id": "mfVgKjAqSjcw"
      }
    },
    {
      "cell_type": "code",
      "source": [
        "#T12\n",
        "import numpy as np\n",
        "import matplotlib.pyplot as plt\n",
        "\n",
        "def y(t):\n",
        "    result = 0\n",
        "        for k in range(-5, 5):  # بازه زمانی مناسب را انتخاب کنید\n",
        "                result += np.exp(-(t - 3 * k)) * ((t - 3 * k) >= 0)\n",
        "                    return result\n",
        "\n",
        "                    t = np.arange(0, 10, 0.1)\n",
        "                    y_values = [y(ti) for ti in t]\n",
        "\n",
        "                    plt.figure(figsize=(8, 4))\n",
        "                    plt.plot(t, y_values)\n",
        "                    plt.title('y(t)')\n",
        "                    plt.xlabel('t')\n",
        "                    plt.ylabel('y(t)')\n",
        "                    plt.grid(True)\n",
        "                    plt.show()"
      ],
      "metadata": {
        "id": "ceMJdz-lw6g4"
      },
      "execution_count": null,
      "outputs": []
    },
    {
      "cell_type": "markdown",
      "source": [
        "2,13)\n",
        "سیستم گسسته در زمان با پاسخ ضربه زیر را در نظر بگیرید:\n",
        "h[n]=(1/5)^n u[n]\n",
        "\n",
        "الف) مقدار A را به نحوی تعیین کنید که داشته باشیم:\n",
        "h[n] - A h[n-1] = δ[n]\n",
        "\n",
        "(ب) با استفاده از نتیجه بند (الف)، پاسخ ضربه g[n] سیستم LTI را به نحوی تعیین کنید که سیستم S با پاسخ ضربه h[n] وارون سیستم S باشد."
      ],
      "metadata": {
        "id": "sCZmmmNgSk6I"
      }
    },
    {
      "cell_type": "markdown",
      "source": [
        "حل)\n",
        "الف) نیاز داریم که بدانیم:\n",
        "h[n] = (1/5) u[n]\n",
        "\n",
        "بنابراین:\n",
        "(1/5) u[n] - A (1/5) u[n-1] = δ[n]\n",
        "\n",
        "با قرار دادن n=1 و محاسبه، مقدار A را بدست می‌آوریم:\n",
        "A = 1/3\n",
        "\n",
        "(ب) از قسمت (الف) می‌دانیم:\n",
        "h[n] - (1/5) h[n-1] = δ[n]\n",
        "\n",
        "که می‌توان آن را به صورت زیر نوشت:\n",
        "h[n] * (δ[n] - (1/5) δ[n-1]) = δ[n]\n",
        "\n",
        "با استفاده از تعریف سیستم معکوس، داریم:\n",
        "g[n] = δ[n] - (1/5) δ[n-1]\n"
      ],
      "metadata": {
        "id": "x-6JwotCSnC0"
      }
    },
    {
      "cell_type": "code",
      "source": [
        "#T13\n",
        "import numpy as np\n",
        "import matplotlib.pyplot as plt\n",
        "\n",
        "def h(n):\n",
        "    return (1/5)**n * (n >= 0)\n",
        "\n",
        "    # (الف)\n",
        "    A = 1/5\n",
        "    print(f\"مقدار A: {A}\")\n",
        "\n",
        "    # (ب)\n",
        "    # g[n] = 5 * delta[n] - delta[n-1]\n",
        "    def g(n):\n",
        "        if n == 0:\n",
        "                return 5\n",
        "                    elif n == 1:\n",
        "                            return -1\n",
        "                                else:\n",
        "                                        return 0\n",
        "\n",
        "                                        n = np.arange(-2, 5)\n",
        "                                        h_values = h(n)\n",
        "                                        g_values = [g(i) for i in n]\n",
        "\n",
        "                                        plt.figure(figsize=(10, 4))\n",
        "                                        plt.subplot(1, 2, 1)\n",
        "                                        plt.stem(n, h_values)\n",
        "                                        plt.title('h[n]')\n",
        "                                        plt.subplot(1, 2, 2)\n",
        "                                        plt.stem(n, g_values)\n",
        "                                        plt.title('g[n]')\n",
        "                                        plt.tight_layout()\n",
        "                                        plt.show()\n"
      ],
      "metadata": {
        "id": "DsOov3MfxFtD"
      },
      "execution_count": null,
      "outputs": []
    },
    {
      "cell_type": "markdown",
      "source": [
        "2,14)\n",
        "کدام یک از پاسخ ضربه‌های زیر پاسخ ضربه یک سیستم LTI پایدار است؟\n",
        "(الف)\n",
        "h₁(t) = e^(-(1-2j)t) u(t)\n",
        "\n",
        "(ب)\n",
        "h₂(t) = e^(-t) cos(2t) u(t)\n"
      ],
      "metadata": {
        "id": "jG8FTbQmSogG"
      }
    },
    {
      "cell_type": "markdown",
      "source": [
        "حل)\n",
        "الف) ابتدا تعیین می‌کنیم که آیا انتگرال معین زیر همگرا است:\n",
        "∫|h₁(τ)| dτ از -∞ تا +∞ = ∫ e^(-τ) dτ از 0 تا ∞ = 1\n",
        "\n",
        "بنابراین h₁(t) پاسخ ضربه یک سیستم پایدار است.\n",
        "(ب) اگر انتگرال معین زیر همگرا باشد، تعیین می‌کنیم:\n",
        "∫|h₂(τ)| dτ از -∞ تا +∞ = ∫ e^(-τ) |cos(2τ)| dτ از 0 تا ∞\n",
        "\n",
        "این انتگرال به طور واضح مقدار محدودی دارد زیرا |e^cos(t)| یک تابع نمایی در بازه ی [0, ∞) است. بنابراین h₂(t) پاسخ ضربه ی یک سیستم LTI می‌باشد."
      ],
      "metadata": {
        "id": "GH5UmQ5OSt_b"
      }
    },
    {
      "cell_type": "code",
      "source": [
        "#T14\n",
        "import numpy as np\n",
        "import matplotlib.pyplot as plt\n",
        "\n",
        "def h1(t):\n",
        "    return np.exp(-abs(t - 2)) * (t >= 0)\n",
        "\n",
        "    def h2(t):\n",
        "        return np.exp(-t) * np.cos(2 * t) * (t >= 0)\n",
        "\n",
        "        t = np.arange(0, 5, 0.1)\n",
        "        y1 = h1(t)\n",
        "        y2 = h2(t)\n",
        "\n",
        "        plt.figure(figsize=(10, 4))\n",
        "        plt.subplot(1, 2, 1)\n",
        "        plt.plot(t, y1)\n",
        "        plt.title('h1(t)')\n",
        "        plt.subplot(1, 2, 2)\n",
        "        plt.plot(t, y2)\n",
        "        plt.title('h2(t)')\n",
        "        plt.tight_layout()\n",
        "        plt.show()\n",
        "\n",
        "        # برای بررسی پایداری، انتگرال مطلق را بررسی کنید (به صورت عددی)\n",
        "        print(f\"انتگرال h1: {np.sum(np.abs(y1)) * 0.1}\")\n",
        "        print(f\"انتگرال h2: {np.sum(np.abs(y2)) * 0.1}\")\n"
      ],
      "metadata": {
        "id": "vL7lZVhPxMIT"
      },
      "execution_count": null,
      "outputs": []
    },
    {
      "cell_type": "markdown",
      "source": [
        "2,15)\n",
        "کدام یک از پاسخ ضربه‌های زیر پاسخ ضربه ی یک سیستم LTI پایدار است؟\n",
        "الف) h₁[n] = n cos(π/4) u[n]\n",
        "ب) h₂[n] = 3^n u[-n + 10]"
      ],
      "metadata": {
        "id": "eFiR6AHDSvwg"
      }
    },
    {
      "cell_type": "markdown",
      "source": [
        "حل)\n",
        "الف) اگر ∑ |h₁[n]| مجموع (سیگمای) معینی به شکل زیر باشد، تعیین می‌کنیم:\n",
        "∑ |h₁[k]| = ∑ |k cos(π/4)|\n",
        "این سری مقدار محدودی ندارد زیرا با افزایش مقدار k، تابع k cos(π/4) صعودی است. بنابراین h₁[n] نمی‌تواند پاسخ ضربه یک سیستم LTI پایدار باشد.\n",
        "(ب) اگر ∑ |h₂[n]| سری معینی به شکل زیر باشد، تعیین می‌کنیم:\n",
        "∑ |h₂[k]| = ∑ |3^k| = 3^(11/2)\n",
        "بنابراین h₂[n] پاسخ ضربه یک سیستم پایدار LTI می‌باشد."
      ],
      "metadata": {
        "id": "BJUeJI0uSx5q"
      }
    },
    {
      "cell_type": "code",
      "source": [
        "#T15\n",
        "import numpy as np\n",
        "import matplotlib.pyplot as plt\n",
        "\n",
        "def h1(n):\n",
        "    return n * np.cos(np.pi / 4 * n) * (n >= 0)\n",
        "\n",
        "    def h2(n):\n",
        "        return 3**n * (n <= 10)\n",
        "\n",
        "        n = np.arange(0, 15)\n",
        "        y1 = h1(n)\n",
        "        y2 = h2(n)\n",
        "\n",
        "        plt.figure(figsize=(10, 4))\n",
        "        plt.subplot(1, 2, 1)\n",
        "        plt.stem(n, y1)\n",
        "        plt.title('h1[n]')\n",
        "        plt.subplot(1, 2, 2)\n",
        "        plt.stem(n, y2)\n",
        "        plt.title('h2[n]')\n",
        "        plt.tight_layout()\n",
        "        plt.show()\n",
        "\n",
        "        # برای بررسی پایداری، مجموع مطلق را بررسی کنید\n",
        "        print(f\"مجموع h1: {np.sum(np.abs(y1))}\")\n",
        "        print(f\"مجموع h2: {np.sum(np.abs(y2))}\")\n"
      ],
      "metadata": {
        "id": "ZsRLg_MpxUIR"
      },
      "execution_count": null,
      "outputs": []
    },
    {
      "cell_type": "markdown",
      "source": [
        "2,16)\n",
        "درستی یا نادرستی هر یک از گزاره‌های زیر را تعیین کنید:\n",
        "الف) اگر در N₁ < n < N₂، x[n] = 0 و در n < N₁ و n > N₂، h[n] = 0، آنگاه در N₁ < n < N₂، y[n] = x[n] * h[n] = 0.\n",
        "ب) اگر y[n] = x[n] * h[n]، آنگاه y[n-1] = x[n-1] * h[n-1].\n",
        "ج) اگر y(t) = x(t) * h(t)، آنگاه y(-t) = x(-t) * h(-t).\n",
        "د) اگر در t > T، x(t) = 0 و در t > T، h(t) = 0، آنگاه در t > T، y(t) = x(t) * h(t) = 0."
      ],
      "metadata": {
        "id": "QI-EXIbNSzl0"
      }
    },
    {
      "cell_type": "markdown",
      "source": [
        "حل)\n",
        "الف) صحیح. این به راحتی با توجه به اینکه کانولوشن می‌تواند به عنوان فرآیندی اصل بر هم نهی را انجام دهد، بحث شود. این می‌تواند به عنوان انعکاسی در محل اولین نمونه صفر x[n] اتفاق بیافتد. در این مورد اولین انعکاس در N اتفاق می‌افتد. انعکاس h[n] که در n = N اتفاق می‌افتد.\n",
        "اولین نمونه‌ی صفر خود را در محل زمانی (N_1 + N_2) خواهد داشت. بنابراین برای تمامی مقادیر (n) که (N_1 + N_2) به خود اختصاص می‌دهد، خروجی (h[n]) صفر است.\n",
        "\n",
        "ب) نادرست. فرض کنید:\n",
        "y[n] = x[n] * h[n]\n",
        "کل اساسی پروژه ی پردازش از این:\n",
        "y[n-1] = Σ x[k] h[n-1-k]\n",
        "= x[n] * h[n-1]\n",
        "این نشان می دهد که حالت داده شده نادرست است.\n",
        "(ج) صحیح: فرض کنید:\n",
        "y(t) = x(t) * h(t) = ∫ x(τ) h(t-τ) dτ\n",
        "بنابراین:\n",
        "y(-t) = ∫ x(τ) h(-t-τ) dτ\n",
        "= ∫ x(-τ) h(-t+τ) dτ\n",
        "= x(-t) * h(-t)\n",
        "که نشان می دهد وضعیت داده شده صحیح است.\n",
        "(د) صحیح: این مسئله با فرض زیر می تواند بحث شود:\n",
        "y(t) = x(t) * h(t) = ∫ x(τ) h(t-τ) dτ\n",
        "در شکل ح ٢٠١٦ (t) و x(t-τ) را رسم کرده ایم با فرض اینکه (t) برای t > T₁ = ۰ و (t) برای t > T₂ = ۰ . واضح است حاصلضرب (h(t-τ) x(t) اگر t > T₁ + T₂ برابر صفر خواهد بود. بنابراین برای t > T₁ + T₂ داریم y(t) = ۰ .\n",
        "فرمول‌ها:\n",
        " * y[n] = x[n] * h[n]\n",
        "  * y[n-1] = Σ x[k] h[n-1-k]\n",
        "   * y[n-1] = x[n] * h[n-1]\n",
        "    * y(t) = x(t) * h(t) = ∫ x(τ) h(t-τ) dτ\n",
        "     * y(-t) = ∫ x(τ) h(-t-τ) dτ\n",
        "      * y(-t) = ∫ x(-τ) h(-t+τ) dτ\n",
        "       * y(-t) = x(-t) * h(-t)\n",
        "       * y(t) = x(t) * h(t) = ∫ x(τ) h(t-τ) dτ\n",
        "        توضیحات:\n",
        "   * (ب) نادرست: این قسمت به بررسی یک سیستم گسسته می‌پردازد. فرض می‌شود که سیستم خطی و تغییرناپذیر با زمان (LTI) است. با فرض y[n] = x[n] * h[n]، نشان داده می‌شود که y[n-1] برابر با x[n] * h[n-1] است، که با فرض اولیه y[n-1] = Σ x[k] h[n-1-k] مطابقت ندارد. بنابراین، حالت داده شده نادرست است.\n",
        "    * (ج) صحیح: این قسمت به بررسی یک سیستم پیوسته می‌پردازد. با فرض y(t) = x(t) * h(t) = ∫ x(τ) h(t-τ) dτ، نشان داده می‌شود که y(-t) برابر با x(-t) * h(-t) است. این نشان می‌دهد که سیستم متقارن است و حالت داده شده صحیح است.\n",
        "     * (د) صحیح: این قسمت به بررسی همگرایی انتگرال کانولوشن می‌پردازد. فرض می‌شود که x(t) و h(t) توابع محدود به زمان هستند. با فرض اینکه x(t) برای t > T₁ = ۰ و h(t) برای t > T₂ = ۰، نشان داده می‌شود که y(t) برای t > T₁ + T₂ برابر با صفر است. این نشان می‌دهد که انتگرال کانولوشن همگرا است و حالت داده شده صحیح است."
      ],
      "metadata": {
        "id": "IXDMDy2lS21w"
      }
    },
    {
      "cell_type": "code",
      "source": [
        "#T16\n",
        "import numpy as np\n",
        "\n",
        "# (الف)\n",
        "x = np.array([1, 2, 3])\n",
        "h = np.array([4, 5, 6])\n",
        "y = np.convolve(x, h)\n",
        "print(f\"کانولوشن: {y}\")\n",
        "\n",
        "# (ب)\n",
        "x = np.array([1, 2, 3])\n",
        "h = np.array([4, 5, 6])\n",
        "y = np.convolve(x, h)\n",
        "y_shifted = np.convolve(np.roll(x, -1), np.roll(h, -1))\n",
        "print(f\"y[n-1]: {y_shifted}\")\n",
        "\n",
        "# (ج)\n",
        "# ...\n",
        "\n",
        "# (د)\n",
        "# ..."
      ],
      "metadata": {
        "id": "omhik4VOxcUf"
      },
      "execution_count": null,
      "outputs": []
    },
    {
      "cell_type": "markdown",
      "source": [
        "2,17)\n",
        "یک سیستم LTI با ورودی x(t) و خروجی y(t) و رابطه خروجی-ورودی زیر در نظر بگیرید:\n",
        "معادله دیفرانسیل:\n",
        "d/dt y(t) + 4y(t) = x(t)\n",
        "\n",
        "شرایط اولیه: سیستم ابتدائاً ساکن است.\n",
        "سوالات:\n",
        " * الف) y(t) به ازای x(t) = e^(-1+3j)t چیست؟\n",
        "  * ب) توجه کنید که Re{x(t)} و Re{y(t)} معادله (۲۰۱۷-۲-۱) را ارضا می کنند. خروجی y(t) سیستم LTI را به ازای ورودی زیر بیابید:\n",
        "     * x(t) = e^(-t) cos(3t) u(t)"
      ],
      "metadata": {
        "id": "CJVIHdP9S6WG"
      }
    },
    {
      "cell_type": "markdown",
      "source": [
        "\n",
        "حل)\n",
        "(الف) می دانیم که y(t) مجموع جواب همگن و خصوصی معادله دیفرانسیل داده شده است. ابتدا پاسخ خصوصی y_p(t) را با استفاده از روش جایگذاری (روشی که در مثال ۲.۱۴ آمده است) بدست می آوریم. از آنجایی که ورودی x(t) = e^(-1+3j)t برای t > ۰، اعمال می کنیم؛ بدست می آوریم:\n",
        " y_p(t) = k e^(-1+3j)t برای t > ۰\n",
        " با جایگذاری y_p(t) و x(t) در معادله دیفرانسیل داده شده داریم:\n",
        " (-1+3j)k e^(-1+3j)t + 4k e^(-1+3j)t = e^(-1+3j)t\n",
        "   که می دهد:\n",
        "          (-1+3j)k + 4k = 1\n",
        "         => k = 1 / (3(1+j))\n",
        "\n",
        "  بنابراین:\n",
        "  برای بدست آوردن جواب همگن قرار می دهیم:\n",
        "  y_h(t) = Ae^{st}\n",
        "  از آنجایی که حل همگن باید معادله ی دیفرانسیل زیر را ارضاء کند:\n",
        "  \\frac{dy_h(t)}{dt} + 4y_h(t) = 0\n",
        "  بدست می آوریم:\n",
        "  Ase^{st} + 4Ae^{st} = Ae^{st}(s+4) = 0\n",
        "  که بیان می کند برای هر مقدار s، A می باشد. جواب کلی معادله به صورت زیر می باشد:\n",
        "  y(t) = Ae^{-4t} + \\frac{1}{3(1+j)}e^{(-1+3j)t} \\quad t > 0\n",
        "  حال برای تعیین ثابت A از این حقیقت استفاده می کنیم که سیستم شرایط اولیه را ارضاء می کند. داده شده است y(0) = \\alpha بنابراین می توان نتیجه گرفت که:\n",
        "  A + \\frac{1}{3(1+j)} = \\alpha\n",
        "  \\Rightarrow A = \\alpha - \\frac{1}{3(1+j)}\n",
        "  بنابراین برای t > 0 داریم:\n",
        "  y(t) = \\left( \\alpha - \\frac{1}{3(1+j)} \\right)e^{-4t} + \\frac{1}{3(1+j)}e^{(-1+3j)t}\n",
        "  توضیحات:\n",
        "   * جواب همگن: برای پیدا کردن جواب همگن معادله دیفرانسیل، ابتدا فرض می کنیم که جواب به صورت y_h(t) = Ae^{st} است. سپس این جواب را در معادله دیفرانسیل جایگذاری می کنیم و مقدار s را پیدا می کنیم.\n",
        "    * جواب خصوصی: جواب خصوصی معادله دیفرانسیل به صورت y_p(t) = \\frac{1}{3(1+j)}e^{(-1+3j)t} داده شده است.\n",
        "     * جواب کلی: جواب کلی معادله دیفرانسیل، مجموع جواب همگن و جواب خصوصی است.\n",
        "      * شرایط اولیه: برای تعیین مقدار ثابت A، از شرایط اولیه y(0) = \\alpha استفاده می کنیم.\n",
        "       * تبدیل به متن و فرمول: متن و فرمول های موجود در تصویر به متن قابل خواندن و فرمول های ریاضی تبدیل شده اند.\n",
        "\n",
        "       از آنجایی که سیستم باید شرایط اولیه را ارضاء کند، برای t > 0، بنابراین:\n",
        "       (ب) خروجی، قسمت حقیقی پاسخ بدست آمده در قسمت (الف) خواهد بود.\n",
        "       فرمول 1:\n",
        "       y(t) = (1-j)/6 (-e^(-4t) + e^((-1+3j)t)) μ(t)\n",
        "       y(t) = 1/(3(1+j)) [-e^(-4t) + e^(-1+3j)t]; t > 0\n",
        "       y(t) = 1/6 (e^(-t) cos(3t) + e^(-t) sin(3t) - e^(-4t)) μ(t)\n",
        "\n"
      ],
      "metadata": {
        "id": "m96bZmRuS8VI"
      }
    },
    {
      "cell_type": "code",
      "source": [
        "#T17\n",
        "import numpy as np\n",
        "import matplotlib.pyplot as plt\n",
        "\n",
        "def y(t, x):\n",
        "    # حل معادله دیفرانسیل به صورت عددی\n",
        "        dt = 0.01\n",
        "            y_values = [0]\n",
        "                for i in range(1, len(t)):\n",
        "                        dy = x[i] - 4 * y_values[i - 1]\n",
        "                                y_values.append(y_values[i - 1] + dy * dt)\n",
        "                                    return np.array(y_values)\n",
        "\n",
        "                                    t = np.arange(0, 5, 0.01)\n",
        "\n",
        "                                    # (الف)\n",
        "                                    x1 = np.exp(-t) * (t >= 0)\n",
        "                                    y1 = y(t, x1)\n",
        "\n",
        "                                    # (ب)\n",
        "                                    x2 = np.exp(-t) * np.cos(3 * t) * (t >= 0)\n",
        "                                    y2 = y(t, x2)\n",
        "\n",
        "                                    plt.figure(figsize=(10, 4))\n",
        "                                    plt.subplot(1, 2, 1)\n",
        "                                    plt.plot(t, y1)\n",
        "                                    plt.title('y(t) for x1(t)')\n",
        "                                    plt.subplot(1, 2, 2)\n",
        "                                    plt.plot(t, y2)\n",
        "                                    plt.title('y(t) for x2(t)')\n",
        "                                    plt.tight_layout()\n",
        "                                    plt.show()"
      ],
      "metadata": {
        "id": "EkjHKoKJxkDG"
      },
      "execution_count": null,
      "outputs": []
    },
    {
      "cell_type": "markdown",
      "source": [
        "2,18)\n",
        "ورودی x[n] و خروجی y[n] یک سیستم علی LTI با معادله تفاضلی زیر به هم مربوط می شوند:\n",
        "فرمول 2:\n",
        "y[n] = 1/4 y[n-1] + x[n]\n",
        "\n",
        "بیابید y[n] را به ازای x[n] = δ[n-1]."
      ],
      "metadata": {
        "id": "mY_FsuAlS9r3"
      }
    },
    {
      "cell_type": "markdown",
      "source": [
        "حل)\n",
        "از آنجایی که سیستم کازال است، برای n < 1، y[n] = 0. حال:\n",
        "y[1] = 1/4 y[0] + x[1] = 0 + 1 = 1\n",
        "y[2] = 1/4 y[1] + x[2] = 1/4 + 0 = 1/4\n",
        "y[3] = 1/4 y[2] + x[3] = 1/16 + 0 = 1/16\n",
        "...\n",
        "y[m] = (1/4)^(m-1)\n",
        "\n",
        "بنابراین:\n",
        "فرمول 3:\n",
        "y[n] = (n) = (1/4)^(n-1) u[n-1]\n"
      ],
      "metadata": {
        "id": "ufTrFAwhS_MA"
      }
    },
    {
      "cell_type": "code",
      "source": [
        "#T18\n",
        "import numpy as np\n",
        "import matplotlib.pyplot as plt\n",
        "\n",
        "def y(x):\n",
        "    y_values = [0]\n",
        "        for i in range(1, len(x)):\n",
        "                y_values.append(0.25 * y_values[i - 1] + x[i])\n",
        "                    return np.array(y_values)\n",
        "\n",
        "                    n = np.arange(0, 10)\n",
        "                    x = np.ones(10)\n",
        "                    y_values = y(x)\n",
        "\n",
        "                    plt.figure(figsize=(8, 4))\n",
        "                    plt.stem(n, y_values)\n",
        "                    plt.title('y[n]')\n",
        "                    plt.xlabel('n')\n",
        "                    plt.ylabel('y[n]')\n",
        "                    plt.grid(True)\n",
        "                    plt.show()\n"
      ],
      "metadata": {
        "id": "aGoPE1MdxpgY"
      },
      "execution_count": null,
      "outputs": []
    },
    {
      "cell_type": "markdown",
      "source": [
        "2,19)\n",
        "اتصال سری دو سیستم S1 و S2 به صورت شکل ۲-۱۹ را در نظر بگیرید:\n",
        "شکل ۲-۱۹:\n",
        "x[n] ---> S1 ---> [ ] ---> S2 ---> y[n]\n",
        "دو سیستم خطی تغییر ناپذیر با زمان (LTI) به صورت زیر تعریف شده‌اند:\n",
        "LTI S₁: ```\n",
        "    w[n] = (1/2)w[n-1] + x[n]\n",
        "       \n",
        "LTI S₂: ```\n",
        "           y[n] = αy[n-1] + βw[n]\n",
        "              \n",
        " معادله تفاضلی بین ورودی x[n] و خروجی y[n] عبارت است از:\n",
        "              y[n] = -(1/8)y[n-2] + (3/4)y[n-1] + x[n]\n",
        "\n",
        "الف) مقادیر α و β را بیابید.\n",
        "  ب) پاسخ ضربه اتصال سری سیستم‌های S₁ و S₂ را بیابید."
      ],
      "metadata": {
        "id": "Gw16ECwOTAT2"
      }
    },
    {
      "cell_type": "markdown",
      "source": [
        "حل)\n",
        "الف) یافتن α و β:\n",
        " معادله دیفرانسیل مربوط به S₂ را در نظر بگیرید:\n",
        "    y[n] = αy[n-1] + βw[n]\n",
        "\n",
        " از این معادله می‌توان نوشت:\n",
        "        w[n] = (1/β)y[n] - (α/β)y[n-1]\n",
        "\n",
        " بنابراین:\n",
        "            w[n-1] = (1/β)y[n-1] - (α/β)y[n-2]\n",
        "\n",
        " معادله w[n-1] را در (1/2) ضرب کرده و در معادله w[n] جایگذاری می‌کنیم:\n",
        "  w[n] - (1/2)w[n-1] = (1/β)y[n] - (α/β)y[n-1] - (1/2β)y[n-1] + (α/2β)y[n-2]\n",
        "\n",
        " این عبارت را در معادله دیفرانسیل مربوط به x[n] و w[n] برای S₁ جایگذاری می‌کنیم:\n",
        "  (1/β)y[n] - (α/β)y[n-1] - (1/2β)y[n-1] + (α/2β)y[n-2] = x[n]\n",
        "\n",
        " با مرتب‌سازی:\n",
        " y[n] = (α + 1/2)y[n-1] - (α/2)y[n-2] + βx[n]\n",
        "\n",
        " با مقایسه این معادله با معادله داده شده، داریم:\n",
        " α + 1/2 = 3/4  =>  α = 1/4\n",
        " -α/2 = -1/8  =>  α = 1/4\n",
        "                                β = 1\n",
        " (ب یافتن پاسخ ضربه:\n",
        " با داشتن α و β، معادله S₂ به صورت زیر ساده می‌شود:\n",
        "                                      y[n] = (1/4)y[n-1] + w[n]\n",
        " تبدیل Z معادله S₁ را می‌نویسیم:\n",
        "                                      W(z) = (1/2)z⁻¹W(z) + X(z)\n",
        "\n",
        " که از آن نتیجه می‌شود:\n",
        "                                     W(z) = X(z) / (1 - (1/2)z⁻¹)\n",
        "\n",
        "                                     تبدیل Z معادله S₂ را می‌نویسیم\n",
        "                                     Y(z) = (1/4)z⁻¹Y(z) + W(z)\n",
        "  که از آن نتیجه می‌شود:\n",
        "                                      Y(z) = W(z) / (1 - (1/4)z⁻¹)\n",
        "\n",
        " با جایگذاری W(z) در Y(z):\n",
        "                                                              Y(z) = X(z) / [(1 - (1/2)z⁻¹)(1 - (1/4)z⁻¹)]\n",
        "\n",
        "                                         برای یافتن پاسخ ضربه، X(z) = 1 قرار می‌دهیم:\n",
        "                                                    H(z) = Y(z) = 1 /[(1 - (1/2)z^¹)(1 - (1/4)z⁻¹)]\n",
        "\n",
        " با استفاده از تجزیه کسر جزئی، می‌توان H(z) را به صورت زیر نوشت:\n",
        "                                                                      H(z) = 2 / (1 - (1/2)z⁻¹) - 1 / (1 - (1/4)z⁻¹)\n",
        "\n",
        "                                     با تبدیل Z معکوس، پاسخ ضربه h[n] به دست می‌آید:\n",
        "                                                                          h[n] = 2(1/2)ⁿu[n] - (1/4)ⁿu[n[n]                   \n",
        "\n",
        "ب) معادله دیفرانسیل ورودی و خروجی سیستم‌های S₁ و S₂ عبارتند از:\n",
        "pdf اساس پروژه ی پردازش\n",
        "y[n] = (1/4)y[n-1] + ω[n]\n",
        "از مثال ۲۰۱۵ می توانیم استفاده کنیم تا نشان دهیم که پاسخ ضربه سیستم‌های S₁ و S₂ عبارتند از:\n",
        "h₁[n] = (1/2)^n u[n]\n",
        "h₂[n] = (1/4)^n u[n]\n",
        "پاسخ ضربه کلی سیستم از اتصال کامل (آبشاری) سیستم‌های S₁ و S₂ بدست می‌آید:\n",
        "h[n] = h₁[n] * h₂[n] = ∑ h₁[k] h₂[n-k]\n",
        "k=-∞\n",
        "= ∑ (1/2)^k (1/4)^(n-k) u[n-k]\n",
        "k=-∞\n",
        "= ∑ (1/2)^k (1/4)^(n-k) = ∑ (1/2)^(2(n-k))\n",
        "k=0          k=0\n",
        "= (2(1/2)^n - (1/4)^n) u[n]"
      ],
      "metadata": {
        "id": "H090iVlNTCwW"
      }
    },
    {
      "cell_type": "code",
      "source": [
        "#T19\n",
        "import numpy as np\n",
        "import matplotlib.pyplot as plt\n",
        "\n",
        "# (الف)\n",
        "alpha = 0.75\n",
        "beta = 1\n",
        "print(f\"مقدار آلفا: {alpha}\")\n",
        "print(f\"مقدار بتا: {beta}\")\n",
        "\n",
        "# (ب)\n",
        "def h1(n):\n",
        "    if n == 0:\n",
        "            return 1\n",
        "                else:\n",
        "                        return 0.5 * h1(n - 1)\n",
        "\n",
        "                        def h2(n):\n",
        "                            if n == 0:\n",
        "                                    return beta\n",
        "                                        else:\n",
        "                                                return alpha * h2(n - 1)\n",
        "\n",
        "                                                def h_cascade(n):\n",
        "                                                    result = 0\n",
        "                                                        for k in range(n + 1):\n",
        "                                                                result += h1(k) * h2(n - k)\n",
        "                                                                    return result\n",
        "\n",
        "                                                                    n = np.arange(0, 5)\n",
        "                                                                    h_values = [h_cascade(i) for i in n]\n",
        "\n",
        "                                                                    plt.figure(figsize=(8, 4))\n",
        "                                                                    plt.stem(n, h_values)\n",
        "                                                                    plt.title('پاسخ ضربه سیستم متوالی')\n",
        "                                                                    plt.xlabel('n')\n",
        "                                                                    plt.ylabel('h[n]')\n",
        "                                                                    plt.grid(True)\n",
        "                                                                    plt.show()\n"
      ],
      "metadata": {
        "id": "FcqO9iCmxzDD"
      },
      "execution_count": null,
      "outputs": []
    },
    {
      "cell_type": "markdown",
      "source": [
        "2,20)\n",
        "انتگرال‌های زیر را حساب کنید:\n",
        "(الف) ∫[-∞, ∞] u₁ (t) cos(t) dt\n",
        "(ب) ∫[0, 5] sin(2π) δ(t+3) dt\n",
        "(ج) ∫[-5, 5] u₁ (1-t) cos(2πτ) dτ"
      ],
      "metadata": {
        "id": "4-akr3EWTDw6"
      }
    },
    {
      "cell_type": "markdown",
      "source": [
        "حل)\n",
        "\n",
        "(الف) ∫[-∞, ∞] u₁ (t) cos(t) dt = ∫[-∞, ∞] δ(t) dt = 1\n",
        "ب) برای تعیین انتگرال\n",
        "فرض کنید سیگنال:\n",
        "x(t) = cos(2πt)[u(t+5) - u(t-5)]\n",
        "\n",
        "می‌دانیم که:\n",
        "dx(t)/dt = u₁(t) * x(t) = ∫[-∞, +∞] u₁(t-τ)x(τ) dτ\n",
        "\n",
        "حال:\n",
        "∫[-5, 5] u₁(1-τ) cos(2πτ) dτ\n",
        "\n",
        "که انتگرال مطلوبیت مقدار انتگرال را به صورت زیر تعیین می‌کنیم:\n",
        "dx(t)/dt |_(t=1) = ∫[-5, 5] u₁(1-τ) cos(2πτ) dτ\n",
        "\n",
        "dx(t)/dt |_(t=1) = sin(2πt) |_(t=1) = 0\n",
        "\n"
      ],
      "metadata": {
        "id": "IoVtjKgNTFhJ"
      }
    },
    {
      "cell_type": "code",
      "source": [
        "\n",
        "#T20\n",
        "import numpy as np\n",
        "import sympy as sp\n",
        "\n",
        "# (الف)\n",
        "t = sp.Symbol('t')\n",
        "integral_a = sp.integrate(sp.cos(t), (t, -sp.oo, sp.oo))\n",
        "print(f\"انتگرال (الف): {integral_a}\")\n",
        "\n",
        "# (ب)\n",
        "integral_b = sp.integrate(sp.sin(2 * sp.pi * t) * sp.DiracDelta(t + 3), (t, 0, 5))\n",
        "print(f\"انتگرال (ب): {integral_b}\")\n",
        "\n",
        "# (ج)\n",
        "tau = sp.Symbol('tau')\n",
        "integral_c = sp.integrate(sp.Heaviside(1 - tau) * sp.cos(2 * sp.pi * tau), (tau, -5, 5))\n",
        "print(f\"انتگرال (ج): {integral_c}\")\n"
      ],
      "metadata": {
        "id": "iKBRNp8Nx6t1"
      },
      "execution_count": null,
      "outputs": []
    },
    {
      "cell_type": "markdown",
      "source": [
        "2,21)\n",
        "کانولوشن y[n] = x[n] * h[n] را به ازای زوج سیگنال‌های زیر حساب کنید.\n",
        "(الف)\n",
        "x[n] = a^n u[n]\n",
        "h[n] = β^n u[n]   (a ≠ β)\n",
        "\n",
        "(ب)\n",
        "x[n] = h[n] = a^n u[n]\n",
        "\n",
        "(ج)\n",
        "x[n] = h[n] = a^n u[n]\n",
        "\n",
        "(د)\n",
        "x[n] = (-1/2)^n u[n-4]\n",
        "h[n] = 4^n u[2-n]\n",
        "\n",
        "(ه) [x[n و [h[n"
      ],
      "metadata": {
        "id": "8cszMqpmTGuV"
      }
    },
    {
      "cell_type": "markdown",
      "source": [
        "حل)\n",
        "الف) کانولوشن داده شده به صورت زیر است:\n",
        "y[n] = x[n] * h[n]\n",
        "     = Σ x[k] h[n-k]\n",
        "          = β Σ (α/β)^k   برای n > 0\n",
        "               = [β^(n+1) - α^(n+1)] / (β - α)   برای α ≠ β\n",
        " (ب) از (الف):\n",
        "       y[n] = α^n * [Σ (1)] * α^n = (n+1) α^n u[n]\n",
        "\n",
        "  (ج) برای n ≤ 6:\n",
        "      y[n] = 4^n * [Σ (-1/2^k - Σ (-1/2)^k]   برای n ≤ 6\n",
        "       y[n] = 4^n * [Σ (-1/2)^k - Σ (-1/2)^k]   برای n > 6\n",
        "\n",
        "   بنابراین:\n",
        "               y[n] = (8/9) * 4^n   برای n ≤ 6\n",
        "               y[n] = (8/9) * (-1/2)^n   برای n > 6\n",
        "\n",
        "\n",
        "   د) کانولوشن مطلوب عبارتست از:\n",
        "     y[n] = ∑ x[k]h[n-k]\n",
        " = x[n]h[n] + x[1]h[n-1] + x[2]h[n-2] + x[3]h[n-3] + x[4]h[n-4]\n",
        "    = h[n] + h[n-1] + h[n-2] + h[n-3] + h[n-4]\n",
        "      که در شکل ج ۱.۲۱ نشان داده شده است.\n",
        "     (شکل ج ۱.۲۱): (توضیح: در تصویر نموداری با تعدادی پیکان به سمت بالا وجود دارد که نشان‌دهنده مقادیر h[n] تا h[n-4] است.)\n",
        "\n"
      ],
      "metadata": {
        "id": "Z8oJXFqeTJCO"
      }
    },
    {
      "cell_type": "markdown",
      "source": [
        "2,22)\n",
        " به ازای زوج سیگنال‌های داده شده، با استفاده از انتگرال کانولوشن پاسخ y(t) سیستم LTI دارای پاسخ ضربه h(t) به ورودی x(t) را بیابید. نتایج را رسم کنید.\n",
        "(الف) x(t) = e^(-at)u(t)\n",
        "h(t) = e^(-βt)u(t)\n",
        "(هم به ازای α = β و هم به ازای α ≠ β)\n",
        "(ب) x(t) = u(t) - 2u(t-2) + u(t-5)\n",
        "h(t) = e^(-t)u(t-1)\n",
        "\n",
        "ج) نمودار سیگنال‌های x(t) و h(t) در شکل م ۲-۲۲ (الف)\n",
        " (د) نمودار سیگنال‌های x(t) و h(t) در شکل م ۲-۲۲ (ج)\n",
        "(ه) نمودار سیگنال‌های x(t) و h(t) در شکل م ۲-۲۲ (ج)"
      ],
      "metadata": {
        "id": "ZdPsjOAbTKJG"
      }
    },
    {
      "cell_type": "markdown",
      "source": [
        "حل)\n",
        "الف) کانولوشن مطلوب عبارت است از:\n",
        "y(t) = ∫[x(τ)h(t-τ)] dτ\n",
        "     = ∫[e^(-ατ) e^(-β(t-τ))] dτ    t>0\n",
        "\n",
        " در این صورت:\n",
        "     y(t) = (e^(-αt) - e^(-βt)) / (β - α) u(t)   α ≠ β\n",
        "          = te^(-αt) u(t)                     α = β\n",
        "\n",
        "   ب) کانولوشن مطلوب عبارت است از:\n",
        "          y(t) = ∫[x(τ)h(t-τ)] dτ = ∫[h(t-τ)h(t-τ)] dτ = ∫[h(t-τ)] dτ\n",
        "\n",
        "   که می‌توان آن را به صورت زیر نیز نوشت:\n",
        "          y(t) = 24 / 122\n",
        "\n",
        "dr - dr\n",
        "1≤1\n",
        "y(t) = - dr - de 15153\n",
        "3≤1≤6\n",
        "-35156\n",
        "6 < 1\n",
        "بنابراین:\n",
        "y(t) = [1/2 (e^(2(t-r)) - 2e^(r-3))] 15153\n",
        "y(t) = [1/2 (e^(2(t-r)) + 2) -2153 15153\n",
        "y(t) = [1/2 (2e^(6-r) -5)²] 3≤1≤6\n",
        "6 < 3\n",
        "(ج) سیگنال مطلوب عبارتست از:\n",
        "y(t) = ∫ x(t) h(t - r) dr\n",
        "= ∫ sin(π) h(t - r) dr\n",
        "که می دهد:\n",
        "y(t) = [0 r < 1\n",
        "y(t) = [(2/π) - 1 - cos(π(t-1))] 1 < t < 3\n",
        "y(t) = [(2/π) cos(π(t-3)) - 1] 3 < t < 5\n",
        "y(t) = [0 5 < t\n",
        "فرض کنید:\n",
        "h(t) = h₁(t) - 1/8 δ(t-2)\n",
        "h₁(t) = 4/3 0≤t≤1\n",
        "سایر نقاط\n",
        "حال:\n",
        "y(t) = h(t) * x(t) = [h_1(t) * x(t)] - 1/2 x(t-2)\n",
        "\n",
        "داریم:\n",
        "h_1(t) + x(t) = ∫ [1/2 (at + b) dt - 1/2 a(t-1)^2 + bt - b(t-1)]\n",
        "\n",
        "بنابراین:\n",
        "y(t) = 4/3 [1/2 at^2 - 1/2 a(t-1)^2 + bt - b(t-1)] - 1/3 [a(t-2) + b] = at + b = x(t)\n",
        "\n",
        "(1) پریودیک x(t) پریودیک را ارائه می کند. تنها یک پریودیک را تعیین می کنیم.\n",
        "داریم:\n",
        "∫ [1/2 (t-1-t) dt + ∫ [1/2 (1-t+t) dt] = t^2 - 3t + 7/4   1/2 < t < 3/2\n",
        "\n",
        "پریود y(t) برابر 2 می باشد.\n",
        "\n",
        "\n"
      ],
      "metadata": {
        "id": "5Is-xBwLTLnX"
      }
    },
    {
      "cell_type": "markdown",
      "source": [
        "2,23)\n",
        "h(t) را پالس مستطیلی شکل م 2-23 (الف) و x(t) را قطار ضربه شکل م 2-23 (ب) فرض کنید؛ یعنی:\n",
        "x(t) = Σ δ(t-k)\n",
        "\n",
        "h(t) * x(t) = x(t) را به ازای های زیر T بیایید آن را رسم کنید.\n",
        "  الف) T = 4\n",
        "   ب) T = 2\n",
        "   ج) T = 3/2\n",
        "  د) T = 1\n",
        "   h(t):\n",
        "    [تصویر مثلثی شکل h(t) در اینجا نمایش داده شده است.]\n",
        "    (الف)"
      ],
      "metadata": {
        "id": "k0V6FPLWCqzw"
      }
    },
    {
      "cell_type": "markdown",
      "source": [
        "حل)\n"
      ],
      "metadata": {
        "id": "QCpmOHnhDQY9"
      }
    },
    {
      "cell_type": "markdown",
      "source": [
        "2,24)\n",
        "ترکیب سری سیستم می LTI به صورت نشان داده شده در شکل م ۲-۲۴ (الف) را در نظر بگیرید.\n",
        "پاسخ ضربه [ 1 ] عبارت است از:\n",
        "h [ n ] = a [ n ] -un - 2 ]\n",
        "و پاسخ ضربه سیستم کل مطابق شکل م ۲-۲۴ (ب) است.\n",
        "الف ) پاسخ ضربه [ 1 ] را بیایید.\n",
        "ب ) پاسخ سیستم کل به ورودی زیر را بیابید.\n",
        "x [ n ] = 8 [ n ] -8 [ n - 1 ]\n",
        "شکل ۲۴-۲"
      ],
      "metadata": {
        "id": "IjrZlEw5Czi5"
      }
    },
    {
      "cell_type": "markdown",
      "source": [
        "حل)\n",
        "الف) داده شده است که [ 2 ] + [ 1 ] = [ 1 ] ، بنابراین\n",
        "h [ n ] [ n ] = 8 [ n ] +28 [ n - 1 ] + [ 1-2 ]\n",
        "28/122\n",
        "فرمول‌ها:\n",
        " * h[n] = a[n] - u[n-2]\n",
        "  * x[n] = δ[n] - δ[n-1]\n",
        "   * h[n] * h[n] = δ[n] + 2δ[n-1] + δ[n-2]\n",
        "\n",
        "  از آنجایی که:\n",
        "  h[n] = h[n] * x[n] = h[n] + 2h[n-1] + h[n-2]\n",
        "\n",
        "  داریم:\n",
        "  h[n] = h[n] + 2h[n-1] + h[n-2]\n",
        "\n",
        "  بنابراین:\n",
        "  h[0] = h[0] => h[0] = 1\n",
        "  h[1] = h[1] + 2h[0] => h[1] = 3\n",
        "  h[2] = h[2] + 2h[1] + h[0] => h[2] = 3\n",
        "  h[3] = h[3] + 2h[2] + h[1] => h[3] = 2\n",
        "  h[4] = h[4] + 2h[3] + h[2] => h[4] = 1\n",
        "  h[5] = h[5] + 2h[4] + h[3] => h[5] = 0\n",
        "  h[n] = 0 for n > 5\n",
        "\n",
        "  (ب) در این مورد:\n",
        "  y[n] = x[n] * h[n] = h[n] - h[n-1]\n",
        "  y[n] = x[n] * h[n]"
      ],
      "metadata": {
        "id": "vBZr0Do3DYuE"
      }
    },
    {
      "cell_type": "markdown",
      "source": [
        "2,25)\n",
        "سیگنال زیر را به ازای:\n",
        "x[n] = 3^n * u[-n-1] + (1/3)^n * u[n]\n",
        "h[n] = (1/4)^n * u[n+3]\n",
        "\n",
        "در نظر بگیرید.\n",
        "(الف) y[n] را بدون استفاده از خاصیت پخشی کانولوشن بیابید.\n",
        "(ب) y[n] را با استفاده از خاصیت پخشی کانولوشن بیابید."
      ],
      "metadata": {
        "id": "A3Uw5HHgC4wB"
      }
    },
    {
      "cell_type": "markdown",
      "source": [
        "حل)\n",
        "الف) x[n] را به صورت زیر می‌نویسیم:\n",
        "x[n] = (1/4)^n\n",
        "\n",
        "حال کانولوشن مطلوب عبارتست از:\n",
        "y[n] = h[n] * x[n]\n",
        "     = Σ (1/4)^k u[n-k+3]\n",
        "       = Σ (1/4)^k (1/4)^n u[n-k+3]\n",
        "       = (1/2) Σ (1/4)^(n+k+4)\n",
        "                    + Σ (1/4)^k u[n-k+3]\n",
        "\n",
        "   با در نظر گرفتن هر کدام از سری‌های در معادله فوق به صورت جداگانه، می‌توان نشان داد که:\n",
        "      y[n] = {(1/2) 4/113   n < -4\n",
        "          (1/4)^n 4/113  n = -4\n",
        "            (1/4)^n + (-3)(1/4)^n + 3(256)(1/4)^n   n > -4}\n",
        "\n",
        " (ب) حال کانولوشن را در نظر بگیرید:\n",
        "           y1[n] = [(1/3) u[n]] * [(1/4)^n u[n+3]]\n",
        "    می‌توان نشان داد که:\n",
        "          y1[n] = {-3(1/4)^n + 3(256)(1/4)^n   n < -3\n",
        "                                         -3(1/4)^n + 3(256)(1/4)^n   n >= -3}\n",
        "                                        نیز کانولوشن را در نظر بگیرید:\n",
        "                                     y2[n] = [(3)^n u[-n-1]] * [(1/4)^n u[n+3]]\n",
        "                                      می‌توان نشان داد که:\n",
        "                                         y2[n] = {(1/2) 3^n   n < -4\n",
        "                                                (1/4)^n 1/11   n >= -3}\n",
        "                                        یادآور و واضح:  y[n] = x[n] + y₂[n] از قسمت قبلی بدست می‌آید."
      ],
      "metadata": {
        "id": "mfwTAQYwDbbo"
      }
    },
    {
      "cell_type": "markdown",
      "source": [
        "2,26)\n",
        "محاسبه زیر را به ازای x₁[n] = δ[n] - δ[n-1] و x₂[n] = u[n+3] و x₃[n] = 0.5^n u[n] در نظر بگیرید.\n",
        "الف) x₁[n] * x₃[n] را حساب کنید.\n",
        "ب) کانولوشن نتیجه بند (الف) با x₂[n] را برای محاسبه y₃[n] حساب کنید.\n",
        "ج) x₁[n] * x₂[n] را حساب کنید.\n",
        "د) کانولوشن نتیجه بند (الف) با x₂[n] را برای y₃[n] حساب کنید."
      ],
      "metadata": {
        "id": "AuTMpqHXC7RR"
      }
    },
    {
      "cell_type": "markdown",
      "source": [
        "حل)\n",
        "الف) داریم:\n",
        "y₁[n] = x₁[n] * x₃[n]\n",
        "= Σ x₁[k] x₃[n-k]\n",
        "= Σ (δ[k] - δ[k-1]) (0.5)^(n-k) u[n-k]\n",
        "که برابر است با:\n",
        "y₁[n] = x₁[n] * x₃[n] = 2[1 - (1/2)^(n+1)] n ≥ -3\n",
        "۰ سایر نقاط\n",
        "(ب) حال:\n",
        "y₂[n] = x₁[n] * x₂[n] = y₁[n] - y₁[n-1]\n",
        "بنابراین:\n",
        "y₃[n] = y₂[n] * x₃[n]\n",
        "(ج) حل:\n",
        "y₂[n] = x₁[n] * x₂[n]\n",
        "= Σ x₁[k] x₂[n-k]\n",
        "= Σ (δ[k] - δ[k-1]) u[n-k+3]\n",
        "= u[n+3] - u[n+2]\n",
        "(د) حل:\n",
        "y₃[n] = y₂[n] * x₃[n]\n",
        "= Σ y₂[k] x₃[n-k]\n",
        "= Σ (u[k+3] - u[k+2]) (0.5)^(n-k) u[n-k]\n",
        "با توجه به اینکه u[n+3] - u[n+2] فقط در n = -3 مقدار 1 دارد، بنابراین:\n",
        "y₃[n] = (0.5)^(n+3) u[n+3]\n",
        "\n",
        "[2 (1- (1/2)^(n+2)) + 2 (1- (1/2)^(n+3))] = (1/2)^n  n ≥ -2\n",
        "y[n] = { 1                                                                       n = -3\n",
        "          سایر نقاط\n",
        "   بنابراین:\n",
        "          y[n] = (1/2)^n u[n+3]\n",
        "\n",
        "  (ج) داریم:\n",
        "          y[n] = x[n] * x[n] = u[n+3] - u[n+2] = δ[n+3]\n",
        "\n",
        " (د) با استفاده از نتیجه قسمت (ج) داریم:\n",
        "          y[n] = y₂[n] = k₁[n] = x[n+3] = (1/2)^(n+3) u[n+3]\n"
      ],
      "metadata": {
        "id": "D5G0PxEtC_DP"
      }
    },
    {
      "cell_type": "markdown",
      "source": [
        "2,27)\n",
        "مساحت زیر سیگنال پیوسته در زمان (t) را به صورت زیر تعریف می کنیم:\n",
        "A_y = ∫ y(t) dt  از منفی بینهایت تا مثبت بینهایت\n",
        "\n",
        "نشان دهید که اگر y(t) = x(t) * h(t) آنگاه:\n",
        "A_y = A_x A_h"
      ],
      "metadata": {
        "id": "c3z6SKt5C9TL"
      }
    },
    {
      "cell_type": "markdown",
      "source": [
        "حل)\n",
        "اثبات در زیر آورده شده است.\n",
        "A_y = ∫ y(t) dt  از منفی بینهایت تا مثبت بینهایت\n",
        "    = ∫ [∫ x(τ) h(t-τ) dτ] dt  از منفی بینهایت تا مثبت بینهایت\n",
        "        = ∫ x(τ) [∫ h(t-τ) dt] dτ  از منفی بینهایت تا مثبت بینهایت\n",
        "            = ∫ x(τ) A_h dτ  از منفی بینهایت تا مثبت بینهایت\n",
        "                = A_x A_h\n",
        "\n",
        "  "
      ],
      "metadata": {
        "id": "2tquJaUxDfJp"
      }
    },
    {
      "cell_type": "markdown",
      "source": [
        "2,28)\n",
        "الف) h[n] = (1/5)^n u[n]\n",
        "ب) h[n] = (-1/2)^n u[n] + (1/4)^n u[n-1]\n",
        "پ) h[n] = (-0.8)^n u[n+2]\n",
        "ت) h[n] = (1/2)^n u[-n] + (1/3)^n u[n-1]\n",
        "ث) h[n] = (1/n) u[n-1]\n",
        "ج) h[n] = 5^n u[3-n]"
      ],
      "metadata": {
        "id": "KXiCbzl0DAjY"
      }
    },
    {
      "cell_type": "markdown",
      "source": [
        "حل)\n",
        "الف) کازال است زیرا h[n] برای n < 0 برابر صفر است.\n",
        "پایدار است زیرا  ∑|h[n]| = ∑(1/5)^n = 5/4 < ∞\n",
        "(ب) کازال نیست زیرا h[n] برای n < 0 صفر نیست. پایدار است زیرا ∑|h[n]| = ∑(1/2)^n = 2 < ∞\n",
        "(پ) آنتی-کازال است زیرا h[n] برای n > 0 صفر نیست. پایدار نیست زیرا ∑|h[n]| = ∞\n",
        "(ت) کازال نیست زیرا h[n] برای n < 0 صفر نیست. پایدار نیست زیرا ∑ 5^n = ∞\n",
        "(ث) کازال زیرا h[n] برای n < 0 صفر است. پایدار نیست زیرا جمله دوم زمانیکه n به سمت ∞ می‌رود نامحدود است.\n",
        "(ج) کازال نیست زیرا h[n] برای n < 0 صفر نیست. پایدار است زیرا ∑|h[n]| = 305/3 < ∞\n",
        "ع) کازال است زیرا برای n<0، h[n]=۰، پایدار است زیرا ∑|h[n]|<∞"
      ],
      "metadata": {
        "id": "ATK5GMsMDhHT"
      }
    },
    {
      "cell_type": "markdown",
      "source": [
        "2,29)\n",
        "سیگنال‌های زیر پاسخ ضربه‌های سیستم‌های LTI پیوسته در زمان هستند. آیا این سیستم‌ها پایدار و/یا علی هستند؟ دلیل بیاورید.\n",
        "الف) h(t) = e^(-t-2) u(t-2)\n",
        "ب) h(t) = e^(-3-t) u(t-1)\n",
        "پ) h(t) = e^(-t) u(-t-1)\n",
        "ت) h(t) = e^(-t) u(t+1)\n",
        "ث) h(t) = t e^(-t) u(t)\n",
        "ج) h(t) = (2e^(-t) - e^(-2t)) u(t)"
      ],
      "metadata": {
        "id": "Aq_OySngDCga"
      }
    },
    {
      "cell_type": "markdown",
      "source": [
        "حل)\n",
        "الف) کازال زیرا برای t<۰، h(t)=۰، پایدار زیرا ∫|h(t)|dt = e^(-۴) < ∞\n",
        "ب) کازال نیست زیرا برای t<۰، h(t)≠۰، پایدار نیست زیرا ∫|h(t)|dt = ∞\n",
        "پ) کازال نیست زیرا برای t<۰، h(t)≠۰، پایدار نیست زیرا ∫|h(t)|dt = e^(-۳) < ∞\n",
        "ت) کازال نیست زیرا برای t<۰، h(t)≠۰، پایدار نیست زیرا ∫|h(t)|dt = e^(-۱) < ∞\n",
        "ث) کازال نیست زیرا برای t<۰، h(t)≠۰، پایدار نیست زیرا ∫|h(t)|dt = ۱/۲ < ∞\n",
        "ج) کازال است زیرا برای t<۰، h(t)=۰، پایدار است زیرا ∫|h(t)|dt = ۱ < ∞\n",
        "ح) کازال است زیرا برای t<۰، h(t)=۰، پایدار نیست زیرا ∫|h(t)|dt = ∞"
      ],
      "metadata": {
        "id": "DoKp-IScDi6z"
      }
    },
    {
      "cell_type": "markdown",
      "source": [
        "2,30)\n",
        "معادله تفاضلی مرتبه اول زیر را در نظر بگیرید.\n",
        "y[n] + 2y[n-1] = x[n]\n",
        "با فرض سکون ابتدائی (یعنی اگر در n<۰، x[n]=۰، آنگاه در n<۰، y[n]=۰)، پاسخ ضربه سیستمی را که رابطه ورودی-خروجی آن با این معادله تفاضلی توصیف شده است بیابید. شاید بهتر\n",
        "باشد معادله تفاضلی را به صورتی بازنویسی کنید که  y[n] را بر حسب y[n-1] و x[n] بیان کند، و مقادیر y[0]، y[1]، y[2] و ... را به ترتیب بیابید."
      ],
      "metadata": {
        "id": "l2P7W3kmDEB1"
      }
    },
    {
      "cell_type": "markdown",
      "source": [
        "حل)\n",
        "بایستی خروجی سیگنال را وقتی ورودی برابر δ[n] = x[n]  بیابیم. از آنجایی که از ما خواسته شده است تا فرض کنیم جواب نهایی را مختصر کنیم، می‌توانیم نتیجه بگیریم که برای n > 0  حال y[n] = 0.\n",
        "بنابراین:\n",
        "y[n] = x[n] - 2y[n-1]\n",
        "\n",
        "y[0] = x[0] - 2y[-1] = 1\n",
        "y[1] = x[1] - 2y[0] = -2\n",
        "y[2] = x[2] - 2y[1] = -4\n",
        "\n",
        "به همین ترتیب، جواب به صورت زیر بدست می‌آید:\n",
        "y[n] = (-2)^n u[n]\n",
        "\n",
        "این پاسخ ضربه سیستم است."
      ],
      "metadata": {
        "id": "MtNAlmJ0DkmT"
      }
    },
    {
      "cell_type": "markdown",
      "source": [
        "2,31)\n",
        "سیستم LTI ابتدا تاض ساکن توصیف شده با معادله تفاضلی زیر را در نظر بگیرید.\n",
        "y[n] + 2y[n-1] = x[n] + 2x[n-2]\n",
        "\n",
        "پاسخ این سیستم به ورودی نشان داده شده در شکل م ۲-۳۱ را با حل بازگشتی معادله تفاضلی بیابید."
      ],
      "metadata": {
        "id": "mHAaGdn_DGCl"
      }
    },
    {
      "cell_type": "markdown",
      "source": [
        "حل)\n",
        "حل:\n",
        "جواب نهایی مختصر بیان می‌دارد که برای n > -2، حال:\n",
        "y[n] = x[n] + 2x[n-2] - 2y[n-1]\n",
        "\n",
        "بنابراین:\n",
        "y[-2] = 1, y[-1] = 0, y[0] = 5, ...\n",
        "y[5] = -110, ... , y[n] = -110(-2)^n برای n > 5\n"
      ],
      "metadata": {
        "id": "8u4Cev18Dmcn"
      }
    },
    {
      "cell_type": "markdown",
      "source": [
        "2,32)\n",
        "معادله تفاضلی زیر را در نظر بگیرید.\n",
        "y[n] - 1/2 y[n-1] = x[n]  \n",
        "فرض کنید که:\n",
        "(م ۲-۳۲-۱)\n",
        "x[n] = (1/3)^n u[n]\n",
        "شکل م ۲-۳۱  (نمودار سیگنال x[n])\n",
        "جواب y[n] را مجموع یک جواب خصوصی y_p[n] معادله (م ۲-۳۲-۱) و یک جواب همگن y_h[n] به معادله زیر فرض کنید:\n",
        "y_h[n] - (1/2)y_h[n-1] = 0\n",
        "الف) نشان دهید که جواب همگن عبارت است از:\n",
        "y_h[n] = A(1/2)^n\n",
        "ب) جواب خصوصی y_p[n] را به نحوی می‌یابیم که معادله زیر ارضا شود:\n",
        "y_p[n] - (1/2)y_p[n-1] = (1/3)^n u[n]\n",
        "فرض کنید y_p[n] در n≥0 به شکل B(1/3)^n است و با جایگزینی آن در معادله تفاضلی بالا مقدار B را بیابید.\n",
        "ج) فرض کنید ورودی یک سیستم LTI توصیف شده با معادله (م ۲-۳۲-۱) و ابتدائاً ساکن، سیگنال معادله (م ۲-۳۲-۲) است. چون x[n] پس در n=0، y[n]=0. همچنین با توجه به بندهای (الف) و (ب)، y[n] در n≥0 به شکل زیر است:\n",
        "y[n] = A(1/2)^n + B(1/3)^n\n",
        "برای یافتن ثابت مجهول B باید یک مقدار [n]y در 0 ≤ n را بدانیم. با استفاده از شرط سکون ابتدایی و معادلات (م ۲-۳۲-۱) و (م ۲-۳۲-۲) A را تعیین کنید. ثابت A را به کمک این مقدار بیابید. نتیجه این محاسبه جواب معادله تفاضلی (م ۲-۳۲-۱) به ازای ورودی معادله (م ۲-۳۲-۳) و شرط سکون ابتدایی است."
      ],
      "metadata": {
        "id": "H5EEd19bDIix"
      }
    },
    {
      "cell_type": "markdown",
      "source": [
        "حل)\n",
        "الف) اگر n = ۰ در این صورت لازم است ثابت کنیم:\n",
        "A(1/2)^n - 1/2 A(1/2)^n = (1/2)^n\n",
        "\n",
        "واضح است که صحیح می‌باشد.\n",
        "(ب) حال برای n ≥ 0 می‌خواهیم:\n",
        "B(1/3)^n - 1/2 B(1/3)^n = (1/3)^n\n",
        "\n",
        "بنابراین B = -۲\n",
        "(پ) از معادله (م ۲.۳۲.۱) می‌دانیم که [n]y = [n-1]y + [n-1]x و [۰]x = ۱ و [۰]y = ۱\n",
        "[۱]y = A + B = ۱\n",
        "A = ۱ - B = ۳\n"
      ],
      "metadata": {
        "id": "9CXOW0NRDobK"
      }
    },
    {
      "cell_type": "markdown",
      "source": [
        "2,33)\n",
        "سیستمی را در نظر بگیرید که ورودی x(t) و خروجی y(t) آن معادله دیفرانسیل مرتبه اول زیر را ارضا می‌کند.\n",
        "dy(t)/dt + 2y(t) = x(t)   (م ۱-۳۳-۲)\n",
        "\n",
        "این سیستم شرط سکون ابتدایی را نیز برآورده می‌کند.\n",
        "(الف) خروجی y(t) سیستم به ازای ورودی e^(-t)u(t) = x(t) را بیابید.\n",
        "(ب) خروجی y(t) سیستم به ازای ورودی e^(-2t)u(t) = x(t) را بیابید.\n",
        "(پ) خروجی y(t) سیستم به ازای ورودی βe^(-t)u(t) + αe^(-2t)u(t) = x(t) را بیابید. α و β دو عدد حقیقی‌اند. نشان دهید که y(t) = βy₁(t) + αy₂(t).\n",
        "(ت) حال x₁(t) و x₂(t) را دو سیگنال دلخواه بگیرید، به نحوی که:\n",
        "x₁(t) = ۰ , t < t₁\n",
        "x₂(t) = ۰ , t < t₂\n",
        "\n",
        "الف) فرض کنید y_1(t) پاسخ سیستم به ازای ورودی x_1(t) و y_2(t) پاسخ سیستم به ازای ورودی x_2(t) باشد. همچنین فرض کنید y(t) پاسخ سیستم به ازای ورودی ax_1(t) + bx_2(t) باشد. نشان دهید که:\n",
        "y(t) = ay_1(t) + by_2(t)\n",
        "بنابراین سیستم تحت بررسی خطی است.\n",
        "(ب) (i) خروجی y_1(t) را به ازای ورودی Ke^t u(t) بیابید.\n",
        "(ii) خروجی y_2(t) را به ازای ورودی Ke^{t-T} u(t-T) بیابید. نشان دهید که:\n",
        "y_2(t) = y_1(t-T)\n",
        "(iii) حال x(t) را سیگنال دلخواهی بگیرید که در t<t_1، x(t) = x_1(t) و y_1(t) را خروجی سیستم به ازای ورودی x_1(t) و y_2(t) را خروجی سیستم به ازای x_2(t) = x(t-T) فرض کنید. نشان دهید که:\n",
        "y(t) = y_1(t-T)\n",
        "پس نتیجه می‌گیریم سیستم تحت بررسی تغییر ناپذیر با زمان است. با توجه به نتیجه بند (الف) سیستم داده شده LTI است. چون این سیستم شرط سکون ابتدایی را نیز دارد، علی هم هست.\n"
      ],
      "metadata": {
        "id": "-Jw3QSOeJ9xf"
      }
    },
    {
      "cell_type": "markdown",
      "source": [
        "حل)\n",
        "الف) از مثال ۲۰۱۴ می‌دانیم که:\n",
        "y₁(t) = (1/5) - (1/5)e⁻ᵗu(t)\n",
        "(ii) این را بر اساس مثال ۲۰۱۴ حل می‌کنیم. ابتدا فرض کنید که  x₁(t)  شامل  Ke⁻ᵗ  است. در این صورت با استفاده از معادله (م ۲۳۳۱)، برای  t > ۰  داریم:\n",
        "۲Ke⁻ᵗ + ۲Ke⁻²ᵗ = Ke⁻²ᵗ  (k = 1/4)\n",
        "حال می‌دانیم که  y(۰) = ۰  برای  t > ۰  حال جواب عمومی معادله را بدست می‌آوریم:\n",
        "y(t) = Ae⁻ᵗ\n",
        "بنابراین:\n",
        "y(t) = Ae⁻ᵗ + (1/4)e⁻²ᵗ  for t > ۰\n",
        "با فرض جواب نهایی، می‌توانیم نتیجه بگیریم که برای  t > ۰  ،  y(۰) = ۰ ، بنابراین:\n",
        "y(t) = (1/5)e⁻ᵗ - (1/5)e⁻²ᵗ  for t > ۰\n",
        "\n",
        "در اینصورت:\n",
        "   *   y2(t) = A + 1/4 = -1/4\n",
        "\n",
        "    * فرض کنیم ورودی به صورت (1) + (1) باشد. فرض کنیم که (1) جواب خصوصی بصورت زیر باشد:\n",
        "       *   y1(t) = xae^t + kße^t\n",
        "\n",
        "        * برای t > 0 با استفاده از معادله (م 2.33) داریم:\n",
        "           *   3k₁xe^t + 2k₁ße^t + 2k₁xe^t + 2k₁ße^t = ae^t + ße^t\n",
        "\n",
        "            * با متحد قرار دادن ضرایب e^t و e^t در دو طرف معادله داریم:\n",
        "      k₁ = 1/5\n",
        "                 k₁ = 1/4\n",
        "\n",
        "   حال با قرار دادن A = (1) داریم:\n",
        "   y2(t) = 1/5 ae^t + 1/4 ße^t + Ae^t\n",
        "\n",
        "   برای t > 0 شرایط اولیه را به صورت زیر فیض می کنیم:\n",
        "  y2(0) = 0 = A + 1/5 + 1/4\n",
        "  A = -(1/5 + 1/4)\n",
        "\n",
        "بنابراین:\n",
        " y2(t) = 1/5 ae^t + 1/4 ße^t - (1/5 + 1/4) e^t u(t)\n",
        "\n",
        " (۱۷) برای ورودی-خروجی جفت (1) و (1) می توانیم از معادله (م 2.331) استفاده کنیم و شرایط اولیه برای نوشتن:\n",
        "                                    {dy(t)/dt + 2y1(t) = x(t)\n",
        "                                      y1(t) = 0   t < t1}\n",
        "                                      برای ورودی - خروجی جفت (1) و (1) و می توانیم از معادله ی (م 2,3301) استفاده کنیم و شرایط اولیه برای نوشتن (ح 2,3302)\n",
        "                                      (dy(t)/dt) + 2y(t) = x(t)\n",
        "                                      y(t) = 0\n",
        "                                      با اسکیل کردن معادله (ح 2,33,1) به اندازه α و معادله (ح 2,33,2) به اندازه β و خلاصه سازی داریم:\n",
        "                                      d/dt [αy₁(t) + βy₂(t)] + 2[αy₁(t) + βy₂(t)] = αx₁(t) + βx₂(t)\n",
        "                                      y₁(t) + y₂(t) = 0  for t < min(t₁, t₂)\n",
        "                                      با جایگذاری، واضح است که خروجی ay₁(t) + βy₂(t) = 0 برای t < min(t₁, t₂) و زمانیکه t = t₁, خروجی برابر است با αx₁(t) + βx₂(t). زمانیکه t = t₂, خروجی برابر است با αy₁(t) + βy₂(t).\n",
        "                                      (ب) با استفاده از نتیجه (a - ii) می توان نوشت:\n",
        "                                      y₂(t) = (k/4)e^(2(t-τ)) h(t)\n",
        "                                      (ii) این مسئله را در راستای مثال 2014 حل می کنیم. ابتدا فرض کنید که y(t) برای t > τ به صورت KYe^(2(t-τ)) است. سپس با استفاده از معادله (م 2,33,1) برای t > τ داریم:\n",
        "                                      2Ke^(2(t-τ)) + 22Ke^(2(t-τ)) = 0\n",
        "                                      k = -1/4\n",
        "                                      برای t > τ حال جواب عمومی را بدست می آوریم:\n",
        "                                      y₂(t) = Ae^(-2t)\n",
        "                                      بنابراین:\n",
        "                                      y₂(t) = Ae^(-2t) + (k/4)e^(2(t-τ))  for t > τ\n",
        "                                      می دانیم که y₂(τ) = 0.\n",
        "                                      یا در نظر گرفتن شرایط اولیه می‌توان نتیجه گرفت که برای 1T = ( 1 ) بنابراین\n",
        "                                      ( T ) == Ae + / 4A = - :\n",
        "                                      در این صورت\n",
        "                                      3 ( 1 ) = - + - )\n",
        "                                      آشکار است که ( 1 ) ( 1 ) که برای 1 == ( 1 ) توجه کنید که\n",
        "                                      dy , ( 1 ) +2 ( 1 ) = x ( t ) y ( t ) = for 1 < 1 .\n",
        "                                      dt\n",
        "                                      از آنجایی که مشتق یک عملگر تغییر پذیر با زمان است، می‌توان نوشت:\n",
        "                                      dy ( 1 - T ) + 2y , ( t - 1 ) = x ( 1 - T ) y ( t ) = s for t < t\n",
        "                                      dt\n",
        "                                      این پیشنهاد می‌کند که اگر ورودی به صورت سیگنالی از ( 1 ) ( 1 ) باشد. در اینصورت خروجی نیز سیگنالی به صورت ( = ( ۲ ) خواهد بود. همچنین ، توجه کنید که ورودی جدید ( 1 ) ولا برای 1 صفر خواهد بود . این تغییر پذیری با زمان را حمایت می کند از آنجا می کند ( 1 ) برای 7 صفر است . بنابراین می‌توان نتیجه گرفت که سیستم تغییر پذیر با زمان است ."
      ],
      "metadata": {
        "id": "f_LlZAqQJ9Tm"
      }
    },
    {
      "cell_type": "markdown",
      "source": [
        "2,34)\n",
        " فرض کنید سکون ابتدایی معادل یک شرط کمکی صفرست که در زمانی قابل تنظیم با سیگنال ورودی تعیین می‌شود . در این مسئله نشان می‌دهیم که اگر شرط کمکی غیر صفر باشد یا در زمان مشخصی (مستقل از سیگنال ورودی) اعمال شود سیستم متناظر نمی‌توانند LTI باشد . سیستمی با ورودی ( 1 ) و خروجی ( ۲ ) فرض کنید که معادله دیفرانسیل مرتبه اول ( م ۲-۳۳-۱ ) را ارضا کند .\n",
        " ( الف ) یا فرض شرط کمکی 1 ( 1 ) y ) با مثالی نقض نشان دهید که سیستم خطی نیست .\n",
        " ( ب ) با فرض شرط کمکی 1 ( 1 ) ، با مثالی نقض نشان دهید که سیستم تغییر ناپذیر با زمان نیست .\n",
        " ج ) نشان دهید که سیستم با شرط کمکی 1 = ( 1 ) نمواً خطی است .\n",
        " د ) نشان دهید که به ازای شرط کمکی 1 ( 1 ) سیستم خطی است ولی تغییر ناپذیر با زمان نیست .\n",
        " ها نشان دهید که به ازای شرط کمکی ( 4 ) سیستم خطی است ولی تغییر ناپذیر با زمان نیست ."
      ],
      "metadata": {
        "id": "v5TqajPVJ9Pw"
      }
    },
    {
      "cell_type": "markdown",
      "source": [
        "حل)\n",
        "الف) فرض کنید x₁(t) → y₁(t) و x₂(t) → y₂(t) . می‌دانیم که y₁(1) = y₂(1) = 1.\n",
        "حال ورودی سومی را به صورت x₃(t) = x₁(t) + x₂(t) در نظر بگیرید. فرض کنید خروجی متناظر y₃(t) باشد.\n",
        "حال توجه کنید که y₃(1) = 1 ≠ y₁(1) + y₂(1) = 2. بنابراین سیستم خطی نیست. یک مثال خالص در زیر آورده شده است:\n",
        "خروجی متناظر برای t < 0 برابر است با:\n",
        "y₁(t) = Ae⁻²ᵗ + 1/4\n",
        "با استفاده از این حقیقت که y₁(1) = 1 برای t > 0 داریم:\n",
        "y₁(t) = e⁻²ᵗ (1 - 1/4) + 1/4 = 3/4 e⁻²ᵗ + 1/4\n",
        "حال سیگنال x₂(t) را فرض کنید در این صورت خروجی متناظر برابر است با:\n",
        "y₂(t) = Be⁻²ᵗ\n",
        "برای t > 0 با استفاده از این حقیقت که y₂(1) = 1 برای t > 0 داریم:\n",
        "y₂(t) = e⁻²ᵗ(1) = e⁻²ᵗ\n",
        "حال سیگنال سوم x₃(t) = x₁(t) + x₂(t) را در نظر بگیرید. توجه کنید که خروجی هنوز برابر است با y₃(t) = 1 برای t > 0. بدیهی است که y₃(1) ≠ y₁(1) + y₂(1) برای t > 1.\n",
        "بنابراین سیستم خطی نیست.\n",
        "(ب) دوباره سیگنال ورودی x₁(t) = e⁻²ᵗu(t) را فرض کنید. از قسمت (الف) می‌دانیم که سیگنال خروجی متناظر برای t > 0 یا y₁(1) = 1 برابر است با:\n",
        "y₁(t) = 3/4 e⁻²ᵗ + 1/4\n",
        "حال فرض کنید سیگنال ورودی x₂(t) = x₁(t - T) = e⁻²(ᵗ⁻ᵀ)u(t - T) ، در اینصورت برای t > T:\n",
        "y₂(t) = Ae⁻²ᵗ + 1/4\n",
        "با استفاده از این حقیقت که y₂(1) = 1 و همچنین فرض کنید t > T برای 1 < T داریم:\n",
        "y₂(t) = e⁻²(ᵗ⁻ᵀ) (1 - 1/4) + 1/4 = 3/4 e⁻²(ᵗ⁻ᵀ) + 1/4\n",
        "حال توجه کنید که برای t > T ، y₂(t) ≠ y₁(t - T) . بنابراین سیستم تغییر ناپذیر با زمان نیست.\n",
        "\n",
        "ج) به منظور اینکه نشان دهیم سیستم خطی صعودی با شرایط معین مثلاً 1 = (1)y می باشد ابتدا بایستی نشان دهیم که سیستم با شرایط معین خطی است بطر خاص 0 (1)y. برای ورودی - خروجی جفت (1)x و (1)y می توان از (م ۲,۳۳۰۱) استفاده کنیم و با استفاده از شرایط اولیه (۱-۲,۳۴).\n",
        "dy₁(t)/dt + 2y₁(t) = x₁(t)  : y₁(1) = 0   (۲,۳۴-۱)\n",
        "برای ورودی - خروجی جفت (2)x و (2)y ولا نیز\n",
        "dy₂(t)/dt + 2y₂(t) = x₂(t)  : y₂(1) = 0   (۲,۳۵-۲)\n",
        "با اسکیل کردن (۲,۳۱۱) به اندازه α و (۲,۳۵.۲) به اندازه β و خلاصه سازی داریم:\n",
        "d/dt [αy₁(t) + βy₂(t)] + 2[αy₁(t) + βy₂(t)] = αx₁(t) + βx₂(t)\n",
        "y₀(1) = αy₁(1) + βy₂(1) = 0\n",
        "ملاحظه می شود که خروجی به صورت αy₁(t) + βy₂(t)  و زمانیکه ورودی به صورت  αx₁(t) + βx₂(t) بود، درآمد. بعلاوه y₀(1) = αy₁(1) + βy₂(1) = 0 بنابراین سیستم خطی است.\n",
        "بنابراین اگر سیستم کلی به صورت کاسکید (آبشاری) به سیستم خطی با جمع کننده بهم وصل شود پاسخ تنها به شرایط معین اولیه را جمع می زند.\n",
        "(د) در قسمت قبلی نشان دادیم که سیستم زمانی خطی است که y₀(1) = 0. برای اینکه نشان دهیم سیستم تغییر ناپذیر نیست. فرض کنیم یک ورودی از x₀(t) = e⁻²ᵗ  از قسمت (الف) می دانیم که خروجی متناظر برابر خواهد بود با:\n",
        "y₀(t) = 1/4 e⁻²ᵗ + Ae⁻²ᵗ\n",
        "با استفاده از این حقیقت که y₀(1) = 0 برای t > 1 داریم:\n",
        "y₀(t) = 1/4 e⁻²ᵗ - 1/4 e⁻²ᵗ\n",
        "فرض کنیم یک ورودی (t)x باشد. توجه کنید که t)y=(t)x واضح است.\n",
        "t)y(t)x(1-e²)=¼(e⁻ᵗ-e²) بنابراين t)y(t)x برای تمامی tها. این به این معنا است که سیستم تغییر پذیر با زمان است.\n",
        "(ه) برهانی که بسیار شبیه به اثبات خطی استفاده شده در قسمت (ب) اینجا نیز می‌تواند استفاده گردد. با روش نشان داده شده در قسمت (ت) می‌توانیم نشان دهیم که سیستم تغییر پذیر با زمان است."
      ],
      "metadata": {
        "id": "gM5imIX9J9Mp"
      }
    },
    {
      "cell_type": "markdown",
      "source": [
        "2,35)\n",
        "در مسئله قبل دیدیم که استفاده از شرط کمکی ثابت در زمان مستقل از سیگنال ورودی به سیستمی تغییر پذیر با زمان می‌انجامد. در این مسئله اثر شرط کمکی ثابت در زمان بر علی بودن را بررسی می‌کنیم. سیستمی در نظر بگیرید که ورودی (t)x و خروجی (t)y آن معادله دیفرانسیل (م ۱-۲,۳۳) را ارضا کند. فرض کنید شرط کمکی این معادله دیفرانسیل y(0)=0 است. خروجی سیستم به ازای دو ورودی زیر را بیابید.\n",
        "(الف) x₁(t) = 1, t < -1\n",
        "(ب) x₂(t) = 1, t > -1\n",
        "توجه کنید که y₁(t) خروجی به ازای x₁(t) و y₂(t) خروجی به ازای x₂(t) است و گرچه x₁(t) و x₂(t) در t<-1 یکسان اند، ولی y₁(t) و y₂(t) در t>-1 یکسان نیستند. بر اساس این نتیجه می‌توان استدلالی برای علی نبودن سیستم ارائه کرد."
      ],
      "metadata": {
        "id": "TBvrsBi-J9Jl"
      }
    },
    {
      "cell_type": "markdown",
      "source": [
        "حل)\n",
        "الف) از آنجایی که سیستم خطی است، y₁(t) = x₁(t) برای همه ی t\n",
        "(ب) حال فرض کنید خروجی زمانیکه ورودی x₂(t) است، y₂(t) باشد. جواب خصوصی به صورت زیر است.\n",
        "yₚ(t) = Y > 1\n",
        "با جایگذاری در (م ۱-۲,۳۳) داریم:\n",
        "2Y = 1\n",
        "حال، جواب عمومی را به صورت Ae⁻²ᵗ = yₕ(t) در نظر بگیریم. جواب کلی را به صورت زیر بدست می‌آوریم.\n",
        "\n",
        "فرمول (۱):\n",
        "y1(t) = Ae^(-t/2) + 1/2   t > -1\n",
        "\n",
        "از آنجایی که y1(0) = 0 داریم:\n",
        "(ح ۱-۲,۳۵)\n",
        "\n",
        "برای t > -1، نشان می دهیم که y1(t) = 0، بنابراین جواب خصوصی در این بازه صفر خواهد شد.\n",
        "(ح ۲-۲,۳۵)\n",
        "\n",
        "فرمول (۲):\n",
        "y2(t) = Be^(-t/2)   t < -1\n",
        "\n",
        "از آنجایی که دو قسمت جواب y1(t) و y2(t) معادلات (ح ۱-۲,۳۵) و (ح ۲-۲,۳۵) باید در t = -1 بدست آیند، می توانیم B را از معادله بدست آوریم.\n",
        "در نتیجه:\n",
        "Be^(1/2) = 1/2 - 1/2 = 0\n",
        "\n",
        "حال نشان می دهیم که چون y1(t) = y2(t) برای t = -1 بایستی درست که برای سیستم کارال در t > -1، y1(t) = y2(t) بهرحال نتیجه قسمت (الف) و (ب) نشان می دهد که این صحیح نیست.\n",
        "بنابر این سیستم کارال نیست."
      ],
      "metadata": {
        "id": "JGQw-DVQJ9Ge"
      }
    },
    {
      "cell_type": "markdown",
      "source": [
        "2,36)\n",
        "سیستم گسته در زمانی را که ورودی x[n] و خروجی y[n] آن به صورت زیر مرتبط اند، در نظر بگیرید.\n",
        "y[n] = 1/2 y[n-1] + x[n]\n",
        "\n",
        "الف) نشان دهید که در صورت ابتدائاً ساکن بودن (یعنی اگر در n < 0 ، x[n] = 0 آنگاه در n >= 0 ، سیستم خطی و تغییر ناپذیر با زمان است.\n",
        "ب) نشان دهید که اگر سیستم ابتدائاً ساکن نباشد و به جای آن شرط کمکی y[0] = 1 را ارضا کند، سیستم علی نیست. راهنمایی رهیافتی مشابه مسئله ۲-۳۵ به کار ببرید."
      ],
      "metadata": {
        "id": "zA9E4aPyJ9DR"
      }
    },
    {
      "cell_type": "markdown",
      "source": [
        "حل)\n",
        "یک ورودی [x_1[n]] را مانند [x_1[n] = 0] برای [n < n_1] فرض کنید، خروجی متناظر برابر خواهد بود با:\n",
        "[y_1[n] = \\frac{1}{2} y_1[n-1] + x_1[n]]   (ح. ۲.۳۶.۱)\n",
        "و نیز ورودی دیگری بنام [x_2[n]] را مانند [x_2[n] = 0] برای [n < n_2] در این صورت خروجی متناظر برابر خواهد بود با:\n",
        "[y_2[n] = \\frac{1}{2} y_2[n-1] + x_2[n]]   for [n < n_2]   (ج. ۲.۳۶.۲)\n",
        "با اسکیل کردن معادله (۲.۳۶.۱) به اندازه [a] و معادله (۲.۳۶.۲) به اندازه [b] و ساده‌سازی داریم:\n",
        "[ay_1[n] + by_2[n] = \\frac{1}{2} y_1[n-1] + \\frac{1}{2} y_2[n-1] + ax_1[n] + bx_2[n]]\n",
        "با جایگذاری، بدیهی است که خروجی [y(t) = ay_1[n] + by_2[n]] زمانیکه [x(t) = ax_1[n] + bx_2[n]]، علاوه بر آن [y_1(0) = 0] و [y_2(0) = 0]، بنابراین سیستم خطی است.\n",
        "(ب) فرض کنیم دو ورودی [x_1[n]] و [x_2[n]] برای تمام [n] ها\n",
        "[x_1[n] = 0]  [n < -1]\n",
        "[x_2[n] = 1]  [n \\ge -1]\n",
        "موجود هستند. از آنجایی که سیستم خطی است، پاسخ [y_2[n]] که همان [x_2[n]] است برای تمام [n] ها برابر صفر است. یعنی [y_2[n] = 0]\n",
        "حال خروجی [y_1[n]] را زمانی که ورودی [x_1[n]] می‌باشد را بدست می‌آوریم. چون [x_1[0] = 0]\n",
        "[y_1[1] = (\\frac{1}{2}) + 0 = 0]\n",
        "[y_1[2] = (\\frac{1}{2}) + 0 = 0]\n",
        "\n",
        "[y[n] =  برای n ≥ ۰\n",
        "حال برای  n > ۰  توجه کنید که:\n",
        "y[n] = (۱/۲)y[n-۱] + x[n]\n",
        "بنابراین:  y[۰] = -۲  و y[۱] = -۴ و y[۲] = -۸ و y[۳] = -۱۶ و به همین ترتیب.\n",
        "حال توجه کنید که چون برای n > ۰  مقدار y[n] = (۱/۲)y[n-۱]  است، پس با توجه به نتایج بدست آمده از بالا نشان می‌دهد که این درست نیست. بنابراین سیستم کارا نیست."
      ],
      "metadata": {
        "id": "-7Z1zR9pJ9AS"
      }
    },
    {
      "cell_type": "markdown",
      "source": [
        "2,37)\n",
        "سیستمی با رابطه ورودی-خروجی مطابق معادله تفاضلی (م) (۲-۳۳-۱) در نظر بگیرید. فرض کنید سیستم نهایتاً ساکن است یعنی اگر x(t) = ۰  آنگاه y(t) = ۰  برای t > ۰. نشان دهید که این سیستم علی نیست. راهنمایی: دو سیگنال ورودی در نظر بگیرید: x(t) = ۰ با خروجی y(t)  و x(t) = e^t (u(t) - u(t-۱)) با خروجی y(t). نشان دهید که در t < ۰ ،  y(t) ≠ ۰."
      ],
      "metadata": {
        "id": "buCKPFSoJ88p"
      }
    },
    {
      "cell_type": "markdown",
      "source": [
        "حل)\n",
        "\n",
        "فرض کنیم دو ورودی:\n",
        "x₁(t) = ۰\n",
        "x₂(t) = e^t (u(t) - u(t-۱))\n",
        "موجود باشند.\n",
        "چون سیستم خطی است، پاسخ y₂(t) = y₁(t)  خواهد بود.\n",
        "حال y₂(t) را زمانی که x₂(t)  ورودی سیستم باشد را بدست می‌آوریم. جواب خصوصی به صورت زیر می‌باشد:\n",
        "yₚ(t) = Ye^t   برای  ۰ < t < ۱\n",
        "با جایگذاری در معادله (م) (۲.۳۳.۱) داریم:\n",
        "۳Y = ۱\n",
        "\n",
        "حال جواب عمومی معادله را نیز داریم Ae = (1) جواب کلی معادله به صورت زیر می باشد.\n",
        "y1(t) = Ae^-3t  0 < t < 1\n",
        "با فرض شرایط نهایی داریم y1(1) = 0، با استفاده از این بدست می آوریم: A = e^3 / 3\n",
        "بنابراین:\n",
        "y1(t) = -1/30 e^-3t + 1/3 e^3(1-t)  0 < t < 1  (ج ۲,۳۷۱)\n",
        "برای t > 1 بایستی توجه کنید که y1(t) = 0، بنابراین جواب خصوصی در این بازه برابر صفر خواهد بود.\n",
        "y2(t) = Be^-3t  t > 1  (ح ۲,۳۷۲)\n",
        "چون دو قسمت از جواب برای y1(t) در معادلات (ح ۲,۳۷۱) و (ج ۲,۳۷۲) در t = 1 برقرارند، می توانیم B را از معادله بدست آوریم:\n",
        "-1/3 e^-3 + 1/3 = Be^-3  =>  B = 1/3 - 1/30 e^3\n",
        "که در نتیجه:\n",
        "y2(t) = (1/3 - 1/30 e^3) e^-3t  t > 1\n",
        "حال توجه کنید که چون برای t < 1، y1(t) = y2(t) باید این درست باشد که برای یک سیستم کارال y1(t) = y2(t) for t < 0، اما نتایج بدست آمده از معادلات فوق صحت این موضوع را تعیین نمی کند یعنی سیستم کارال نیست."
      ],
      "metadata": {
        "id": "PQ-2aQBzJ85X"
      }
    },
    {
      "cell_type": "markdown",
      "source": [
        "2,38)\n",
        "نمایش جعبه ای سیستمهای LTI علی توصیف شده با معادلات تفاضلی زیر را رسم کنید:\n",
        "الف) y[n] = 1/3 y[n-1] + 1/2 x[n]\n",
        "ب) y[n] = 3 y[n-1] + x[n] - 1"
      ],
      "metadata": {
        "id": "yvUm5B83J8z_"
      }
    },
    {
      "cell_type": "markdown",
      "source": [
        "حل)\n",
        "بلوک دیاگرام در شکل ج ۲.۳۸ نشان داده شده است."
      ],
      "metadata": {
        "id": "8O4IKUNSJ8pZ"
      }
    },
    {
      "cell_type": "markdown",
      "source": [
        "2,39)\n",
        "نمایش جعبه ای سیستهای LTI علی توصیف شده با معادلات دیفرانسیل زیر را رسم کنید.\n",
        " * الف)  dy(t)/dt = -1/2 dy(t) + 4x(t)\n",
        "  * ب)  dy(t)/dt + 3y(t) = x(t)"
      ],
      "metadata": {
        "id": "A-sYPjzrJ8T8"
      }
    },
    {
      "cell_type": "markdown",
      "source": [
        "حل)\n",
        "بلوک دیاگرام در شکل 3.239 نشان داده شده است."
      ],
      "metadata": {
        "id": "pGLIKifDJ776"
      }
    },
    {
      "cell_type": "markdown",
      "source": [
        "2,40)\n",
        "ورودی و خروجی یک سیستم LTI با رابطه زیر هم مرتبط شده اند.\n",
        "y(t) = ∫ e^(-t)(τ - 2) dτ\n",
        " * الف) پاسخ ضربه h(t) این سیستم چیست؟\n",
        "  * ب) پاسخ این سیستم به ورودی x(t) نشان داده شده در شکل م 2.40 را بیابید."
      ],
      "metadata": {
        "id": "K6XVL7a2K4M9"
      }
    },
    {
      "cell_type": "markdown",
      "source": [
        "حل)\n",
        "الف) توجه کنید که:\n",
        "بنابراین:\n",
        "شکل ح ۲۳۸\n",
        "شکل ج ۳۰۰۲\n",
        "فرمول‌ها:\n",
        " * y(t) = ∫ e^(-t-τ) x(τ-2) dτ = ∫ e^(-τ) x(τ') dτ'\n",
        "  * h(t) = e^(-t) u(t-2)\n",
        "  ب) داریم:\n",
        "  y(t) = ∫_{-∞}^{t} h(τ) x(t - τ) dτ\n",
        "       = ∫_{-∞}^{t} [u(t - τ + 1) - u(t - τ - 2)] dτ\n",
        "\n",
        "       با استفاده از شکل می‌توان نوشت:\n",
        "       y(t) =  ∫_{t-1}^{t} 1 dτ = 1 - 0 = 1        t > 1\n",
        "        ∫_{t-1}^{t} e^{-(t-τ)} dτ = e^{-(t-τ)} |_{t-1}^{t} = 1 - e^{-1}   1 < t < 4\n",
        "       ∫_{t-4}^{t} e^{-(t-τ)} dτ = e^{-(t-τ)} |_{t-4}^{t} = 1 - e^{-4}   t > 4"
      ],
      "metadata": {
        "id": "-pFDOqvkK4ik"
      }
    },
    {
      "cell_type": "markdown",
      "source": [
        "2,41)\n",
        "سیگنال زیر را در نظر بگیرید:\n",
        "x[n] = a^n u[n]\n",
        "\n",
        "الف) سیگنال  g[n] = x[n] - ax[n - 1] را رسم کنید.\n",
        "ب) با توجه به نتیجه بند (الف) و خواص کانولوشن h[n] را به نحوی تعیین کنید که داشته باشیم:\n",
        "x[n] * h[n] = (1/2) [u[n + 2] - u[n - 2]]\n"
      ],
      "metadata": {
        "id": "E-EqY_7PK4uN"
      }
    },
    {
      "cell_type": "markdown",
      "source": [
        "حل)\n",
        "الف) می‌توان نوشت:\n",
        "g[n] = x[n] - ax[n - 1]\n",
        "     = a^n u[n] - a * a^{n-1} u[n - 1] = δ[n]\n",
        "\n",
        "  ب) توجه کنید که  ]n[x = ]n[h = { ]1-n[δ α - ]n[δ }   می دانیم\n",
        "     با استفاده از آن می توان نوشت:\n",
        "     ]1-n[δ α - ]n[δ * ]n[x = ]n[x\n",
        "     ]n+1[δ = ]1-1[δ = ]n[x\n",
        "     ]n+1[δ α - ]n[δ = ]n[x\n",
        "     ]n+2[δ = ]1+1[δ = ]n[x\n",
        "     ]n+2[δ α - ]1+1[δ = ]n[x\n",
        "     حال توجه کنید که:\n",
        "     ]1-n[δ 4 + ]n[δ 2 + ]1+n[δ 8 + ]2+n[δ 4 = ]n[x ]n[h\n",
        "     بنابراین:\n",
        "     ]2-n[δ α - ]1-n[δ 2/1 + ]n[δ α 2 + 1 + ]1+n[δ α 4 + 2 + ]2+n[δ 4 = ]n[h\n",
        "     ]2-n[δ 2 + ]1-n[δ α - ]n[δ α + 1 + ]1+n[δ α + 2 + ]2+n[δ 4 = ]n[h"
      ],
      "metadata": {
        "id": "x9ZJaZ2aK47F"
      }
    },
    {
      "cell_type": "markdown",
      "source": [
        "2,42)\n",
        "دو سیگنال زیر را در نظر بگیرید:\n",
        "]5/0-t[u - ]5/0+t[u = )t(x\n",
        "tαe = )t(h\n",
        "الف) α را به نحوی تعیین کنید که داشته باشیم:\n",
        ")t(y =\n",
        ")t(h * )t(x = )t(y\n",
        "\n",
        "ب) آیا جواب یکتا ست"
      ],
      "metadata": {
        "id": "HjnBVAuPK5Pz"
      }
    },
    {
      "cell_type": "markdown",
      "source": [
        "حل)\n",
        "داریم:\n",
        "y(t) = x(t) * h(t) = ∫(1-τ) dt\n",
        "y(0) = ∫ dz = sin(ω/2)\n",
        "(الف) اگر ω = 2π در اینصورت y(0) = 0 .\n",
        "(ب) واضح است جواب ما به قسمت (الف) منحصر به فرد نیست. هر ω = 2kπ ، k ∈ T کافی خواهد بود."
      ],
      "metadata": {
        "id": "xZ25J49ZLKYM"
      }
    },
    {
      "cell_type": "markdown",
      "source": [
        "2,43)\n",
        "یکی از خواص مهم کانولوشن در هر دو حالت پیوسته و گسسته در زمان، خاصیت شرکت پذیری است. در این مسئله این خاصیت را مورد بررسی قرار می دهیم.\n",
        "(الف) تساوی زیر را ثابت کنید:\n",
        "[x(t) * h(t)] * g(t) = x(t) * [h(t) * g(t)]\n",
        "به این منظور نشان دهید هر دو طرف معادله (م ۲-۴۳-۱) به صورت زیر در می آیند.\n",
        "∫x(τ) [∫h(σ) g(t - τ - σ) dσ] dτ\n",
        "ب) در شکل م ۲-۴۳ (الف) دو سیستم LTI با پاسخ ضربه های h و h نشان داده شده اند. این دو سیستم را مطابق شکل م ۲-۴۳ (ب) سری می کنیم. فرض کنید x[n] = δ[n].\n",
        "(۱) ابتدا با محاسبه y[n] = x[n] * h[n] و سپس محاسبه w[n] = y[n] * g[n] را یعنی حاصل y[n] = x[n] * h[n] * g[n] را محاسبه کنید.\n",
        "(۲) ابتدا کانولوشن g[n] * h[n] را حساب کنید.\n",
        "h2[n] = u[n] + 1/2 u[n-1]\n",
        "(الف)\n",
        "شکل م 2-34\n",
        "جوابهای دو بند (i) و (ii) باید برابر باشند که خاصیت شرکت پذیری کانولوشن را در حالت گسسته در زمان نشان می دهد.\n",
        "(ج) ترکیب متوالی دو سیستم LTI شکل م 2-34 (ب) را در نظر بگیرید که در این حالت ورودی عبارت است.\n",
        "h1[n] = sin 8n\n",
        "h2[n] = a^n u[n]   ,   |a| < 1\n",
        "x[n] = δ[n] - aδ[n-1]\n",
        "خروجی y[n] را پیدا کنید. راهنمایی جابجایی و شرکت پذیری کانولوشن حل این مسئله را بسیار ساده می کند."
      ],
      "metadata": {
        "id": "VTTz3XKxLKLQ"
      }
    },
    {
      "cell_type": "markdown",
      "source": [
        "حل)\n",
        "الف) ابتدا داریم:\n",
        "[x(t) * h(t)] * g(t) = [∫{-∞}^{∞} x(τ) h(t-τ) dτ] * g(t) = ∫{-∞}^{∞} [∫_{-∞}^{∞} x(τ) h(σ-τ) dτ] g(t-σ) dσ\n",
        "و نیز:\n",
        "فرمول 1:\n",
        "   x(t) * [h(t) + g(t)] = ∫∫ x(τ) h(σ) δ(t - τ - σ) dτ dσ\n",
        "   = ∫∫ x(τ) h(σ) g(t - τ - σ) dτ dσ\n",
        "\n",
        "  توضیح: این فرمول نشان می‌دهد که کانولوشن سیگنال ورودی x(t) با مجموع پاسخ ضربه h(t) و g(t) چگونه محاسبه می‌شود.\n",
        "  نتیجه‌گیری:\n",
        "   این تساوی اثبات شد.\n",
        " (ب) (1) ابتدا داریم:\n",
        "      a[n] = u[n] * h₂[n] = Σ (-1/2)^n = 2/3 [1 - (-1/2)^n] u[n]\n",
        "  توضیح: این فرمول نشان می‌دهد که خروجی سیستم a[n] از کانولوشن سیگنال ورودی u[n] با پاسخ ضربه h₂(n) محاسبه می‌شود                              حال:\n",
        "                                       y[n] = a[n] * h₁[n] = (n+1) u[n]\n",
        "\n",
        " توضیح: این فرمول نشان می‌دهد که خروجی نهایی سیستم y[n] از کانولوشن a[n] با پاسخ ضربه h₁(n) محاسبه می‌شود.\n",
        "                                       (ب) ابتدا داریم:\n",
        "                                        g[n] = h₁[n] + h₂[n] = Σ (-1/2)^n + 1/2 Σ (-1/2)^n = u[n]\n",
        "\n",
        "   توضیح: این فرمول مجموع پاسخ‌های ضربه h₁(n) و h₂(n) را نشان می‌دهد.\n",
        "                                         حال:    y[n] = u[n] * g[n] = u[n] * u[n] = (n+1) u[n]\n",
        "\n",
        "  توضیح: این فرمول نشان می‌دهد که خروجی نهایی سیستم y[n] از کانولوشن سیگنال ورودی u[n] با g[n] محاسبه می‌شود.\n",
        "                                           نتیجه‌گیری                             نتیجه یکسانی برای هر دو قسمت (ب) (1) و (ب) بدست آمده.\n",
        "                                         (ج) توجه کنید که:\n",
        "                                     x[n] * {h₁[n] * h₂[n]} = {x[n] * h₂[n]} * h₁[n]\n",
        "                                       توضیح: این فرمول خاصیت شرکت‌پذیری کانولوشن را نشان می‌دهد.\n",
        "                                     همچنین توجه کنید که:\n",
        "                                       x[n] * h₂[n] = a^n u[n] - a^n u[n-1] = δ[n]\n",
        "                                                                                                            توضیح: این فرمول نشان می‌دهد که کانولوشن x[n] با h₂(n) برابر با تابع دلتا δ[n] است.\n",
        "                                      بنابراین\n",
        "                                                                              x[n] * h₁[n] * h₂[n] = δ[n] * sin(8n) = sin(8n)                               توضیح این فرمول نشان می‌دهد که خروجی نهایی سیستم برابر با sin(8n) است."
      ],
      "metadata": {
        "id": "AC3MGd0vLJzz"
      }
    },
    {
      "cell_type": "markdown",
      "source": [
        "2,44)\n",
        "الف) اگر:\n",
        "   x(t) = |> T|\n",
        "   h(t) = |> T|\n",
        "الف) آنگاه می‌توان عدد مثبت T را به نحوی یافت که به ازای آن  x(t) * h(t) = 0،  |t| > T.  T را بر حسب T1 و T2 به دست آورید.\n",
        "ب) ورودی یک سیستم گسسته در زمان LTI، [x[n]]، پاسخ ضربه آن [h[n]] و خروجی آن [y[n]] است. اگر بدانیم h[n] در خارج فاصله N1 ≤ n ≤ N2  و x[n] در خارج فاصله N3 ≤ n ≤ N4 صفرند، خروجی y[n] در خارج فاصله M1 ≤ n ≤ M2 صفرند.\n",
        "(ii) اگر طول فواصل N1 ≤ n ≤ N2 و N3 ≤ n ≤ N4 را به ترتیب SN و SN بنامیم، M1 و M2 را بیابید.\n",
        "ج) یک سیستم LTI گسسته در زمان با این مشخصه در نظر بگیرید: اگر به ازای n ≥ 10، x[n] = 0، آنگاه خروجی به ازای n ≥ 215 صفر است. برای درستی این گزاره پاسخ ضربه سیستم باید چه شرطی داشته باشد؟\n",
        "د) یک سیستم LTI با پاسخ ضربه شکل 2-44 در نظر بگیرید. برای تعیین y(0)، دانستن x[n] در چه فاصله‌ای لازم است؟\n",
        "\n"
      ],
      "metadata": {
        "id": "RRUbHPb5LJcA"
      }
    },
    {
      "cell_type": "markdown",
      "source": [
        "حل)\n",
        "الف) داریم:\n",
        "y(t) = ∫ x(τ) h(t - τ) dτ\n",
        "\n",
        "h(t - τ) = 0 برای τ > T2 + t و τ < t - T1\n",
        "\n",
        "بنابراین انتگرال فوق برابر صفر خواهد بود همچنین اگر t > T1 + T2 یا t < -T1 - T2 که بیان می‌دارد اگر |t| > T1 + T2 انتگرال کانولوشن صفر است.\n",
        "\n",
        "ب) (ii) داریم:\n",
        "y[n] = ∑ x[k] h[n - k]\n",
        "\n",
        "توجه کنید که برای n - k > N2 و n - k < -N1، h[n - k] = 0، بنابراین برای n > N1 + N2 و n < -N1 - N2، y[n] = 0.\n",
        "\n",
        "واضح است سری کانولوشن اگر n - k > N2 و n - k < -N1 صفر است.\n",
        "\n",
        "نیست. بنابراین برای صفر نیست. بنابراین برای و\n",
        "به راحتی میتوان نشان داد که\n",
        "ج ) برای  [n] = n < 5\n",
        "د ) از شکل مشخص است که\n",
        "y(t) = h(t) * x(t) = (x(t-r)dr + x(-6)\n",
        "بنابراین:\n",
        "y(0) = (x(t)dr + x(-6)\n",
        "که بیان می کند که (1) باید در بازه 112 و برای 6 = 1 معین باشد."
      ],
      "metadata": {
        "id": "FkQdz-zdLI6M"
      }
    },
    {
      "cell_type": "markdown",
      "source": [
        "2,45)\n",
        "نشان دهید که اگر (1) پاسخ یک سیستم LTI به ورودی (1) باشد، آنگاه پاسخ سیستم به\n",
        "شکل ٢,٤٤\n",
        "ورودی x'(t) = dx(t)/dt\n",
        "برابر (1) y ) است . درستی این مطلب را به سه شکل نشان دهید.\n",
        "( ق ) با استفاده مستقیم از خواص خطی بودن تغییر ناپذیری با زمان و این که\n",
        "x(t) = x(t) - x(t-h) / h\n",
        "\n",
        "x(t)  →  u(t)  →  y(t)\n",
        "\n",
        "(الف)\n",
        " * (ii) با مشتق گیری از انتگرال کانولوشن\n",
        "  * (iii) با بررسی سیستم شکل 2.45\n",
        "  (ب) صحت روابط زیر را نشان دهید:\n",
        "   * (i) y'(t) = x(t) * h'(t)\n",
        "    * (ii) y'(t) = [x(t)] * h'(t) = d/dt [∫ x(t)h(t) dt] = x(t) + [∫ h'(τ) dτ]\n",
        "    راهنمایی: به کمک نمودار جعبه‌ای بند (iii) بخش (الف) و توجه به این که δ(t) = u'(t) ، می توان به آسانی مسئله را حل کرد.\n",
        "    (د) u(t) پاسخ پله واحد یک سیستم LTI پیوسته در زمان است. با استفاده از بند (ب) نشان دهید که پاسخ y(t) به ورودی x(t) عبارت است از:\n",
        "     * y(t) = ∫ x(τ)u(t-τ) dτ  (معادله 2-45-1)\n",
        "     (ه) با استفاده از معادله (2-45-2) پاسخ سیستم LTI دارای پاسخ ضربه زیر را بیابید:\n",
        "      * s(t) = (e^(-t) - 2e^(-2t) + 1)u(t)\n",
        "      به ورودی x(t) = e^(-t)u(t) را بیابید.\n",
        "      (و) h[n] پاسخ پله یک سیستم گسسته در زمان LTI است. همتای گسسته در زمان معادله های (2-45-1) را بیابید."
      ],
      "metadata": {
        "id": "4Prg_q6Q4dRN"
      }
    },
    {
      "cell_type": "markdown",
      "source": [
        "حل)\n",
        "داریم:\n",
        "(x(t) - x(t-h)) / h  =  (y(t) - y(t-h)) / h\n",
        "\n",
        "با سوق دادن h به صفر در هر طرف معادله فوق داریم:\n",
        " * x'(t) = y'(t)\n",
        " (ii) با گرفتن دیفرانسیل از انتگرال کانولوشن داریم:\n",
        "\n",
        " iii) فرض کنیم نام خروجی سیستم با پاسخ ضربه (t)h*y(t) باشد. در این صورت:\n",
        " z(t) = x(t) * h(t), a(t) = x(t) * u(t), y(t) = x'(t) * h(t)\n",
        " چون هر دو سیستم در زنجیره TI (cascade) هستند، می توانیم جای آنها را مانند آنچه در شکل ۲.۴۵ نشان داده شده است عوض کرد.\n",
        " در این صورت y(t) = y'(t) و چون p(t) = y'(t) و z(t) = y(t) باید برابر باشند می توانیم نتیجه بگیریم که:\n",
        " x'(t) * h(t) = y'(t)\n",
        " ۱) فرض کنید:\n",
        " y(t) = [x(t) * u(t)] * h'(t)\n",
        " x(t) * [u(t) * h'(t)]\n",
        " x(t) * h(t)\n",
        " این نشان می دهد که [x(t) * u(t)] * h'(t) که معادل است با x(t) * h(t) حال مطلب مشابهی را به صورت زیر می توان نوشت:\n",
        " y(t) = [x(t) * u(t)] * h(t)\n",
        " = [x(t) * h(t)] * u(t)\n",
        " = x'(t) * h(t)\n",
        " = x'(t) * h(t)\n",
        " = x'(t) * h(t)\n",
        " = x'(t) * ∫h(τ)dτ\n",
        " ج) توجه کنید:\n",
        " h(t) = \\omega \\cos(\\omega t) + 5 \\sin(\\omega t)\n",
        " بنابراین، خروجی سیستم y(t) برابر خواهد بود با:\n",
        " y(t) = \\omega \\cos(\\omega t) + 5 \\sin(\\omega t)\n",
        " چون این بایستی با y(t) = \\omega t معادل باشد، مجبوریم:\n",
        " h(t) = \\omega \\cos(\\omega t) + 5 \\sin(\\omega t)\n",
        " (د) داریم:\n",
        " y(t) = x(t) * h(t)\n",
        " = [x(t) * u_1(t)] + [u_1(t) * h(t)]\n",
        " = x(t) * S(t)\n",
        " = \\int_{-\\infty}^{\\infty} x(\\tau) \\delta(t - \\tau) d\\tau\n",
        " (ii)\n",
        " x(t) = x(t) * S(t)\n",
        " = [x(t) * u(t)] = u(t)\n",
        " = \\int_{-\\infty}^{\\infty} x(\\tau) u(t - \\tau) d\\tau\n",
        " (هـ) در این مورد:\n",
        " x'(t) = e^t u(t) + \\delta(t)\n",
        " بنابراین:\n",
        " y(t) = S(t) + e^t u(t) * S(t)\n",
        " که می‌تواند به صورت زیر نوشته شود:\n",
        " y(t) = [e^{-t} - 2e^{-2t} + 1] u(t) + \\frac{1}{4} [e^{-t} - e^{-2t}] u(t)\n",
        " = \\frac{1}{4} [e^{-t} - 2e^{-2t} - e^{-t}] u(t)\n",
        " (ح) با استفاده از این حقیقت که:\n",
        " \\delta[n] = u[n] - u[n-1]\n",
        " داریم:\n",
        " y[n] = [x[n] - x[n-1]] * \\delta[n] = \\sum_{k=-\\infty}^{\\infty} [x[k] - x[k-1]] * \\delta[n-k]\n",
        "\n",
        " n] = [x] - x[n-1]\n",
        " [um] = [∑ [k] - x[-1] [kk]]"
      ],
      "metadata": {
        "id": "FNdp0h925kts"
      }
    },
    {
      "cell_type": "markdown",
      "source": [
        "2,46)\n",
        "S یک سیستم LTI است. سیگنال x(t) = e^t u(t-1) را در نظر بگیرید. اگر x(t) -> y(t) و dx(t)/dt = -3y(t) + e^t u(t) ، پاسخ ضربه h(t) سیستم S را بیابید."
      ],
      "metadata": {
        "id": "Oh8BbW6l4iJT"
      }
    },
    {
      "cell_type": "markdown",
      "source": [
        "حل)\n",
        "توجه کنید که dx(t)/dt = -6e^-t u(t-1) + 2δ(t-1) = -3x(t) + 2δ(t-1) که می‌دهد x(t) = 2e^t u(t-1) -> y(t)\n",
        "می دانیم که dx(t)/dt = -3x(t) + 2δ(t-1) باید در خروجی -3y(t) + 2h(t-1) را بدهد. از اطلاعات داده شده می توانیم نتیجه بگیریم که 2h(t-1) = e^t u(t) بنابراین h(t) = 1/2 e^(t+1) u(t+1)"
      ],
      "metadata": {
        "id": "6Hn4YA3l6kzw"
      }
    },
    {
      "cell_type": "markdown",
      "source": [
        "2,47)\n",
        "سیستم خطی تغییر ناپذیر با زمان، با پاسخ ضربه h(t) داده شده است. می دانیم که اگر ورودی x(t) و باشد، خروجی به صورت y(t) لا شکل 2-17 است. سیگنال‌های زیر ورودی سیستم‌های خطی تغییر ناپذیر با زمان دارای پاسخ ضربه داده شده هستند.\n",
        "پاسخ ضربه h(t)\n",
        "الف) ورودی x(t) = x(t) - x(t-2)\n",
        "ب) ورودی x(t) = x(t) - x(t-1)\n",
        "ج) ورودی x(t) = x(-t)\n",
        "h(t) = h(t)\n",
        "h(t) = h(t+1)\n",
        "h(t) = h(-t)\n",
        " h(t) = h(-t)\n",
        "  * h(t) = h'(t)\n",
        "   * x(t) = x'(t)\n",
        "    * x(t) = x'(t)\n",
        "    [در اینجا x'(t) و h'(t) به ترتیب مشتق‌های x و h هستند.]\n",
        "    شکل ۲.۴۷ y₀(t)\n",
        "    در هر مورد تعیین کنید آیا برای یافتن خروجی سیستم دارای پاسخ ضربه h(t) به ورودی x(t) اطلاعات کافی است یا نه. در صورت وجود اطلاعات کافی، y(t) را رسم و آن را دقیقاً عددگذاری کنید."
      ],
      "metadata": {
        "id": "g73tVbrw4iFj"
      }
    },
    {
      "cell_type": "markdown",
      "source": [
        "حل)\n",
        " * الف) y(t) = 2y₀(t)\n",
        "  * ب) y(t) = y₀(t) - y₀(t-2)\n",
        "   * ج) y(t) = y₀(t) - y₀(t-1)\n",
        "    * د) اطلاعات کافی نیست.\n",
        "     * ه) y(t) = y₀(-t)\n",
        "      * و) y(t) = y₀(t)\n",
        "       * ز) y(t) = y₀(t²)\n",
        "       سیگنال‌ها برای قسمت‌های مختلف مسئله در شکل ۲.۱۷ ترسیم شده‌اند.\n",
        "       "
      ],
      "metadata": {
        "id": "T4TwM4S-6sMK"
      }
    },
    {
      "cell_type": "markdown",
      "source": [
        "2,48)"
      ],
      "metadata": {
        "id": "XPbOyslP4iB-"
      }
    },
    {
      "cell_type": "markdown",
      "source": [
        "حل)"
      ],
      "metadata": {
        "id": "VF1WrGqX6t1Q"
      }
    },
    {
      "cell_type": "markdown",
      "source": [
        "2,49)"
      ],
      "metadata": {
        "id": "yZuHLljz4h-g"
      }
    },
    {
      "cell_type": "markdown",
      "source": [
        "حل)"
      ],
      "metadata": {
        "id": "bxu-AtW561_Z"
      }
    },
    {
      "cell_type": "markdown",
      "source": [
        "2,50)"
      ],
      "metadata": {
        "id": "B76nIWJo4h7Q"
      }
    },
    {
      "cell_type": "markdown",
      "source": [
        "حل)"
      ],
      "metadata": {
        "id": "ubebmQV663e7"
      }
    },
    {
      "cell_type": "markdown",
      "source": [
        "2,51)"
      ],
      "metadata": {
        "id": "KkaL0yrT4h3v"
      }
    },
    {
      "cell_type": "markdown",
      "source": [
        "حل)"
      ],
      "metadata": {
        "id": "Ii1-Aui_65sA"
      }
    },
    {
      "cell_type": "markdown",
      "source": [
        "2,52)"
      ],
      "metadata": {
        "id": "D-EwX0xw4h0D"
      }
    },
    {
      "cell_type": "markdown",
      "source": [
        "حل)"
      ],
      "metadata": {
        "id": "Ux5QYuT068_z"
      }
    },
    {
      "cell_type": "markdown",
      "source": [
        "2,53)"
      ],
      "metadata": {
        "id": "Eqfp7QHZ4hkX"
      }
    },
    {
      "cell_type": "markdown",
      "source": [
        "حل)"
      ],
      "metadata": {
        "id": "KcX2UmCw6-f7"
      }
    },
    {
      "cell_type": "markdown",
      "source": [
        "2,54)"
      ],
      "metadata": {
        "id": "-tAZ8bYT4hd5"
      }
    },
    {
      "cell_type": "markdown",
      "source": [
        "حل)"
      ],
      "metadata": {
        "id": "R4R-P-pq7Agv"
      }
    },
    {
      "cell_type": "markdown",
      "source": [
        "2,55)"
      ],
      "metadata": {
        "id": "28L-FI7P4hal"
      }
    },
    {
      "cell_type": "markdown",
      "source": [
        "حل)"
      ],
      "metadata": {
        "id": "CkNcXGzb7Bxx"
      }
    },
    {
      "cell_type": "markdown",
      "source": [
        "2,56)"
      ],
      "metadata": {
        "id": "dIE2nupk4hWU"
      }
    },
    {
      "cell_type": "markdown",
      "source": [
        "حل)"
      ],
      "metadata": {
        "id": "uMORT28b7Ljt"
      }
    },
    {
      "cell_type": "markdown",
      "source": [
        "2,57)"
      ],
      "metadata": {
        "id": "x1i8l_U34hIR"
      }
    },
    {
      "cell_type": "markdown",
      "source": [
        "حل)"
      ],
      "metadata": {
        "id": "D0-BRaAr7Niu"
      }
    },
    {
      "cell_type": "markdown",
      "source": [
        "2,58)"
      ],
      "metadata": {
        "id": "pIk2yZ_A4hFM"
      }
    },
    {
      "cell_type": "markdown",
      "source": [
        "حل)"
      ],
      "metadata": {
        "id": "RwLOKrPI7QrV"
      }
    },
    {
      "cell_type": "markdown",
      "source": [
        "2,59)"
      ],
      "metadata": {
        "id": "PZ4aqXzd4hB3"
      }
    },
    {
      "cell_type": "markdown",
      "source": [
        "حل)"
      ],
      "metadata": {
        "id": "qPD2TvaK7Sdn"
      }
    },
    {
      "cell_type": "markdown",
      "source": [
        "2,60)"
      ],
      "metadata": {
        "id": "3AEd9HxY4g-4"
      }
    },
    {
      "cell_type": "markdown",
      "source": [
        "حل)"
      ],
      "metadata": {
        "id": "pl5zECc37UES"
      }
    },
    {
      "cell_type": "markdown",
      "source": [
        "2,61)"
      ],
      "metadata": {
        "id": "qQ69K3Zy4g6w"
      }
    },
    {
      "cell_type": "markdown",
      "source": [
        "حل)"
      ],
      "metadata": {
        "id": "qTcBf_0M7V51"
      }
    },
    {
      "cell_type": "markdown",
      "source": [
        "2,62)"
      ],
      "metadata": {
        "id": "sHB9xnMC4g2g"
      }
    },
    {
      "cell_type": "markdown",
      "source": [
        "حل)"
      ],
      "metadata": {
        "id": "14QJrdMR7qwH"
      }
    },
    {
      "cell_type": "markdown",
      "source": [],
      "metadata": {
        "id": "OD1q2eZ84gzD"
      }
    },
    {
      "cell_type": "markdown",
      "source": [],
      "metadata": {
        "id": "SHyA1snu4gvj"
      }
    },
    {
      "cell_type": "markdown",
      "source": [],
      "metadata": {
        "id": "V1THwe7Z4gke"
      }
    },
    {
      "cell_type": "markdown",
      "source": [],
      "metadata": {
        "id": "ElQLGevt4gTc"
      }
    }
  ]
}